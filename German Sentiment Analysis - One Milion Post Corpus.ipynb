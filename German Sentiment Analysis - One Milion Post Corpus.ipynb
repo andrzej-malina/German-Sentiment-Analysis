{
 "cells": [
  {
   "cell_type": "code",
   "execution_count": 252,
   "metadata": {},
   "outputs": [],
   "source": [
    "import pandas as pd\n",
    "import sqlite3\n",
    "\n",
    "import nltk\n",
    "from nltk.tokenize import word_tokenize\n",
    "from nltk.corpus import stopwords\n",
    "from nltk.tokenize import RegexpTokenizer\n",
    "\n",
    "from sklearn.feature_extraction.text import TfidfTransformer\n",
    "from sklearn.feature_extraction.text import TfidfVectorizer\n",
    "\n",
    "#models\n",
    "from sklearn.naive_bayes import MultinomialNB\n",
    "import xgboost as xgb\n",
    "\n",
    "#success metric\n",
    "from  sklearn.metrics  import accuracy_score\n",
    "\n",
    "import warnings\n",
    "warnings.filterwarnings('ignore')\n",
    "\n",
    "pd.set_option('display.max_colwidth', -1)"
   ]
  },
  {
   "cell_type": "code",
   "execution_count": 194,
   "metadata": {},
   "outputs": [
    {
     "name": "stdout",
     "output_type": "stream",
     "text": [
      "         Date   Sym  Data2  Data3  Data4\n",
      "0  2015-05-08  aapl  11     5      55   \n",
      "1  2015-05-07  aapl  8      8      108  \n",
      "2  2015-05-06  aapl  10     6      66   \n",
      "3  2015-05-05  aapl  15     1      121  \n",
      "4  2015-05-08  aaww  110    50     55   \n"
     ]
    }
   ],
   "source": [
    "# Read sqlite query results into a pandas DataFrame\n",
    "con = sqlite3.connect('corpus.sqlite3')\n",
    "df_annots = pd.read_sql_query(\"SELECT * FROM Annotations\", con)\n",
    "\n",
    "# Verify that result of SQL query is stored in the dataframe\n",
    "print(df.head())\n",
    "\n",
    "con.close()"
   ]
  },
  {
   "cell_type": "code",
   "execution_count": 195,
   "metadata": {},
   "outputs": [
    {
     "data": {
      "text/plain": [
       "(58568, 4)"
      ]
     },
     "execution_count": 195,
     "metadata": {},
     "output_type": "execute_result"
    }
   ],
   "source": [
    "#checking the shape of loaded df\n",
    "df_annots.shape"
   ]
  },
  {
   "cell_type": "code",
   "execution_count": 196,
   "metadata": {},
   "outputs": [
    {
     "data": {
      "text/plain": [
       "PersonalStories      11336\n",
       "PossiblyFeedback     8039 \n",
       "SentimentNeutral     5599 \n",
       "OffTopic             5599 \n",
       "Discriminating       5599 \n",
       "SentimentPositive    5599 \n",
       "ArgumentsUsed        5599 \n",
       "SentimentNegative    5599 \n",
       "Inappropriate        5599 \n",
       "Name: Category, dtype: int64"
      ]
     },
     "execution_count": 196,
     "metadata": {},
     "output_type": "execute_result"
    }
   ],
   "source": [
    "#checking the category data, apart from sentiment there are other categories\n",
    "df_annots['Category'].value_counts()"
   ]
  },
  {
   "cell_type": "code",
   "execution_count": 197,
   "metadata": {},
   "outputs": [
    {
     "data": {
      "text/plain": [
       "(5599, 4)"
      ]
     },
     "execution_count": 197,
     "metadata": {},
     "output_type": "execute_result"
    }
   ],
   "source": [
    "#we are interested in sentiment data\n",
    "#create separate df for neutral, positive and negative sentiments\n",
    "df_neutral = df_annots[df_annots['Category']=='SentimentNeutral']\n",
    "df_neutral.shape"
   ]
  },
  {
   "cell_type": "code",
   "execution_count": 198,
   "metadata": {},
   "outputs": [
    {
     "data": {
      "text/plain": [
       "(5599, 4)"
      ]
     },
     "execution_count": 198,
     "metadata": {},
     "output_type": "execute_result"
    }
   ],
   "source": [
    "df_positive = df_annots[df_annots['Category']=='SentimentPositive']\n",
    "df_positive.shape"
   ]
  },
  {
   "cell_type": "code",
   "execution_count": 199,
   "metadata": {},
   "outputs": [
    {
     "data": {
      "text/plain": [
       "(5599, 4)"
      ]
     },
     "execution_count": 199,
     "metadata": {},
     "output_type": "execute_result"
    }
   ],
   "source": [
    "df_negative = df_annots[df_annots['Category']=='SentimentNegative']\n",
    "df_negative.shape"
   ]
  },
  {
   "cell_type": "code",
   "execution_count": 200,
   "metadata": {},
   "outputs": [
    {
     "data": {
      "text/plain": [
       "(16797, 4)"
      ]
     },
     "execution_count": 200,
     "metadata": {},
     "output_type": "execute_result"
    }
   ],
   "source": [
    "#merging all three above df's to one df_sent\n",
    "df_sent = pd.concat([df_neutral, df_positive, df_negative])\n",
    "df_sent.shape"
   ]
  },
  {
   "cell_type": "code",
   "execution_count": 201,
   "metadata": {},
   "outputs": [
    {
     "data": {
      "text/plain": [
       "3599"
      ]
     },
     "execution_count": 201,
     "metadata": {},
     "output_type": "execute_result"
    }
   ],
   "source": [
    "#checking the number of unique values of ID_Posts\n",
    "df_sent['ID_Post'].nunique()"
   ]
  },
  {
   "cell_type": "code",
   "execution_count": 202,
   "metadata": {},
   "outputs": [],
   "source": [
    "#according to descriptions from SQL database only posts marked with 1 in \"value\" column are indeed neutral, pos or neg\n",
    "#therefore I delete rows with 0 in 'value' column\n",
    "df_final_sent = df_sent[df_sent['Value']==1]"
   ]
  },
  {
   "cell_type": "code",
   "execution_count": 203,
   "metadata": {},
   "outputs": [
    {
     "data": {
      "text/plain": [
       "(5599, 4)"
      ]
     },
     "execution_count": 203,
     "metadata": {},
     "output_type": "execute_result"
    }
   ],
   "source": [
    "#checking final shape\n",
    "df_final_sent.shape"
   ]
  },
  {
   "cell_type": "code",
   "execution_count": 204,
   "metadata": {},
   "outputs": [
    {
     "data": {
      "text/plain": [
       "1    2594\n",
       "2    1513\n",
       "3    1000\n",
       "4    492 \n",
       "Name: ID_Annotator, dtype: int64"
      ]
     },
     "execution_count": 204,
     "metadata": {},
     "output_type": "execute_result"
    }
   ],
   "source": [
    "#checking the number of annotators, we have 4 different annotators\n",
    "df_final_sent['ID_Annotator'].value_counts()"
   ]
  },
  {
   "cell_type": "code",
   "execution_count": 205,
   "metadata": {},
   "outputs": [
    {
     "data": {
      "text/html": [
       "<div>\n",
       "<style scoped>\n",
       "    .dataframe tbody tr th:only-of-type {\n",
       "        vertical-align: middle;\n",
       "    }\n",
       "\n",
       "    .dataframe tbody tr th {\n",
       "        vertical-align: top;\n",
       "    }\n",
       "\n",
       "    .dataframe thead th {\n",
       "        text-align: right;\n",
       "    }\n",
       "</style>\n",
       "<table border=\"1\" class=\"dataframe\">\n",
       "  <thead>\n",
       "    <tr style=\"text-align: right;\">\n",
       "      <th></th>\n",
       "      <th>ID_Post</th>\n",
       "      <th>ID_Annotator</th>\n",
       "      <th>Category</th>\n",
       "      <th>Value</th>\n",
       "    </tr>\n",
       "  </thead>\n",
       "  <tbody>\n",
       "    <tr>\n",
       "      <th>7</th>\n",
       "      <td>3326</td>\n",
       "      <td>1</td>\n",
       "      <td>SentimentNeutral</td>\n",
       "      <td>1</td>\n",
       "    </tr>\n",
       "    <tr>\n",
       "      <th>16</th>\n",
       "      <td>3326</td>\n",
       "      <td>2</td>\n",
       "      <td>SentimentNeutral</td>\n",
       "      <td>1</td>\n",
       "    </tr>\n",
       "    <tr>\n",
       "      <th>25</th>\n",
       "      <td>3326</td>\n",
       "      <td>3</td>\n",
       "      <td>SentimentNeutral</td>\n",
       "      <td>1</td>\n",
       "    </tr>\n",
       "    <tr>\n",
       "      <th>52</th>\n",
       "      <td>5321</td>\n",
       "      <td>3</td>\n",
       "      <td>SentimentNeutral</td>\n",
       "      <td>1</td>\n",
       "    </tr>\n",
       "    <tr>\n",
       "      <th>61</th>\n",
       "      <td>5590</td>\n",
       "      <td>1</td>\n",
       "      <td>SentimentNeutral</td>\n",
       "      <td>1</td>\n",
       "    </tr>\n",
       "  </tbody>\n",
       "</table>\n",
       "</div>"
      ],
      "text/plain": [
       "    ID_Post  ID_Annotator          Category  Value\n",
       "7   3326     1             SentimentNeutral  1    \n",
       "16  3326     2             SentimentNeutral  1    \n",
       "25  3326     3             SentimentNeutral  1    \n",
       "52  5321     3             SentimentNeutral  1    \n",
       "61  5590     1             SentimentNeutral  1    "
      ]
     },
     "execution_count": 205,
     "metadata": {},
     "output_type": "execute_result"
    }
   ],
   "source": [
    "#we have 3599 unique posts and 5599 rows in the df, which means that some posts have been annotated multiple times\n",
    "df_final_sent.head()"
   ]
  },
  {
   "cell_type": "code",
   "execution_count": 206,
   "metadata": {},
   "outputs": [],
   "source": [
    "#delete the duplicates where Post_ID and Category values are the same\n",
    "df_final_sent.drop_duplicates(subset=['ID_Post','Category'], inplace=True)"
   ]
  },
  {
   "cell_type": "code",
   "execution_count": 207,
   "metadata": {},
   "outputs": [
    {
     "data": {
      "text/plain": [
       "(4034, 4)"
      ]
     },
     "execution_count": 207,
     "metadata": {},
     "output_type": "execute_result"
    }
   ],
   "source": [
    "#after droping duplicates we still have 4034 rows, which suggests that some post have been annotated with different classes\n",
    "df_final_sent.shape"
   ]
  },
  {
   "cell_type": "code",
   "execution_count": 132,
   "metadata": {},
   "outputs": [
    {
     "data": {
      "text/plain": [
       "630070    3\n",
       "413265    3\n",
       "573885    3\n",
       "671191    3\n",
       "510887    3\n",
       "180020    3\n",
       "657483    3\n",
       "227362    3\n",
       "924705    3\n",
       "110246    3\n",
       "302266    2\n",
       "260676    2\n",
       "694673    2\n",
       "203025    2\n",
       "956972    2\n",
       "246926    2\n",
       "792588    2\n",
       "509250    2\n",
       "438833    2\n",
       "493463    2\n",
       "635164    2\n",
       "333220    2\n",
       "676645    2\n",
       "806132    2\n",
       "620098    2\n",
       "707126    2\n",
       "655951    2\n",
       "14677     2\n",
       "416422    2\n",
       "258384    2\n",
       "         ..\n",
       "578860    1\n",
       "904491    1\n",
       "124202    1\n",
       "904519    1\n",
       "124234    1\n",
       "124266    1\n",
       "124250    1\n",
       "875881    1\n",
       "124131    1\n",
       "140646    1\n",
       "875877    1\n",
       "876011    1\n",
       "904407    1\n",
       "672933    1\n",
       "875873    1\n",
       "124254    1\n",
       "875869    1\n",
       "875865    1\n",
       "27979     1\n",
       "832856    1\n",
       "929742    1\n",
       "124246    1\n",
       "875861    1\n",
       "140626    1\n",
       "875857    1\n",
       "904527    1\n",
       "124238    1\n",
       "875853    1\n",
       "124081    1\n",
       "904350    1\n",
       "Name: ID_Post, Length: 3599, dtype: int64"
      ]
     },
     "execution_count": 132,
     "metadata": {},
     "output_type": "execute_result"
    }
   ],
   "source": [
    "#indeed some post still have 2 or 3 different annotations\n",
    "df_final_sent['ID_Post'].value_counts()"
   ]
  },
  {
   "cell_type": "code",
   "execution_count": 208,
   "metadata": {},
   "outputs": [
    {
     "data": {
      "text/html": [
       "<div>\n",
       "<style scoped>\n",
       "    .dataframe tbody tr th:only-of-type {\n",
       "        vertical-align: middle;\n",
       "    }\n",
       "\n",
       "    .dataframe tbody tr th {\n",
       "        vertical-align: top;\n",
       "    }\n",
       "\n",
       "    .dataframe thead th {\n",
       "        text-align: right;\n",
       "    }\n",
       "</style>\n",
       "<table border=\"1\" class=\"dataframe\">\n",
       "  <thead>\n",
       "    <tr style=\"text-align: right;\">\n",
       "      <th></th>\n",
       "      <th>ID_Post</th>\n",
       "      <th>ID_Annotator</th>\n",
       "      <th>Category</th>\n",
       "      <th>Value</th>\n",
       "    </tr>\n",
       "  </thead>\n",
       "  <tbody>\n",
       "    <tr>\n",
       "      <th>16045</th>\n",
       "      <td>630070</td>\n",
       "      <td>1</td>\n",
       "      <td>SentimentNeutral</td>\n",
       "      <td>1</td>\n",
       "    </tr>\n",
       "    <tr>\n",
       "      <th>16064</th>\n",
       "      <td>630070</td>\n",
       "      <td>3</td>\n",
       "      <td>SentimentPositive</td>\n",
       "      <td>1</td>\n",
       "    </tr>\n",
       "    <tr>\n",
       "      <th>16053</th>\n",
       "      <td>630070</td>\n",
       "      <td>2</td>\n",
       "      <td>SentimentNegative</td>\n",
       "      <td>1</td>\n",
       "    </tr>\n",
       "  </tbody>\n",
       "</table>\n",
       "</div>"
      ],
      "text/plain": [
       "       ID_Post  ID_Annotator           Category  Value\n",
       "16045  630070   1             SentimentNeutral   1    \n",
       "16064  630070   3             SentimentPositive  1    \n",
       "16053  630070   2             SentimentNegative  1    "
      ]
     },
     "execution_count": 208,
     "metadata": {},
     "output_type": "execute_result"
    }
   ],
   "source": [
    "#example where the same post has been annotated in three different classes (neutral, positive, negative)\n",
    "df_final_sent[df_final_sent['ID_Post']==630070]"
   ]
  },
  {
   "cell_type": "code",
   "execution_count": 209,
   "metadata": {},
   "outputs": [],
   "source": [
    "#I decide to remove such inconsistent annotations from dataset (the might be confusing for model)\n",
    "#maybe we could use them for further testing of the model\n",
    "df_final_sent['is_neutral'] = df_final_sent['Category'].map(lambda x: 1 if str(x)=='SentimentNeutral' else 0)\n",
    "df_final_sent['is_positive'] = df_final_sent['Category'].map(lambda x: 1 if str(x)=='SentimentPositive' else 0)\n",
    "df_final_sent['is_negative'] = df_final_sent['Category'].map(lambda x: 1 if str(x)=='SentimentNegative' else 0)"
   ]
  },
  {
   "cell_type": "code",
   "execution_count": 211,
   "metadata": {},
   "outputs": [],
   "source": [
    "temp = df_final_sent.groupby('ID_Post')[['is_neutral', 'is_positive', 'is_negative']].sum()\n",
    "temp.reset_index(level=None, drop=False, inplace=True, col_level=0, col_fill='')\n",
    "temp['sum_agg'] = temp['is_neutral'] + temp['is_positive'] + temp['is_negative']\n",
    "del temp['is_neutral']\n",
    "del temp['is_positive']\n",
    "del temp['is_negative']\n",
    "\n",
    "df_all = pd.merge(df_final_sent, temp, on='ID_Post')"
   ]
  },
  {
   "cell_type": "code",
   "execution_count": 214,
   "metadata": {},
   "outputs": [
    {
     "data": {
      "text/plain": [
       "(4034, 8)"
      ]
     },
     "execution_count": 214,
     "metadata": {},
     "output_type": "execute_result"
    }
   ],
   "source": [
    "df_all.head(5)\n",
    "df_all.shape"
   ]
  },
  {
   "cell_type": "code",
   "execution_count": 213,
   "metadata": {},
   "outputs": [
    {
     "data": {
      "text/plain": [
       "(860, 8)"
      ]
     },
     "execution_count": 213,
     "metadata": {},
     "output_type": "execute_result"
    }
   ],
   "source": [
    "#separate df with vague annotations for eventual tests\n",
    "df_sent_vague = df_all[df_all['sum_agg']>1]\n",
    "df_sent_vague.shape"
   ]
  },
  {
   "cell_type": "code",
   "execution_count": 216,
   "metadata": {},
   "outputs": [
    {
     "data": {
      "text/plain": [
       "(3174, 8)"
      ]
     },
     "execution_count": 216,
     "metadata": {},
     "output_type": "execute_result"
    }
   ],
   "source": [
    "#separate df with clear annotations for training\n",
    "df_sentiment = df_all[df_all['sum_agg']==1]\n",
    "df_sentiment.shape"
   ]
  },
  {
   "cell_type": "code",
   "execution_count": 224,
   "metadata": {},
   "outputs": [
    {
     "name": "stdout",
     "output_type": "stream",
     "text": [
      "We have 1622 neutral posts in our training dataset\n",
      "We have 25 positive posts in our training dataset\n",
      "We have 1527 negative posts in our training dataset\n"
     ]
    }
   ],
   "source": [
    "#summary of training dataset\n",
    "print('We have {} neutral posts in our training dataset'.format(df_sentiment['is_neutral'].sum()))\n",
    "print('We have {} positive posts in our training dataset'.format(df_sentiment['is_positive'].sum()))\n",
    "print('We have {} negative posts in our training dataset'.format(df_sentiment['is_negative'].sum()))"
   ]
  },
  {
   "cell_type": "code",
   "execution_count": 227,
   "metadata": {},
   "outputs": [
    {
     "data": {
      "text/plain": [
       "(51.102709514807806, 0.7876496534341524, 48.109640831758036)"
      ]
     },
     "execution_count": 227,
     "metadata": {},
     "output_type": "execute_result"
    }
   ],
   "source": [
    "1622/3174*100, 25/3174*100, 1527/3174*100"
   ]
  },
  {
   "cell_type": "code",
   "execution_count": 229,
   "metadata": {},
   "outputs": [
    {
     "name": "stdout",
     "output_type": "stream",
     "text": [
      "   ID_Post  ID_Parent_Post  ID_Article  ID_User                CreatedAt  \\\n",
      "0  1       NaN              1           9089     2003-04-23 14:52:41.870   \n",
      "1  2       NaN              1           29367    2003-11-04 16:21:57.850   \n",
      "2  3        2.0             1           5095     2004-01-28 12:57:28.240   \n",
      "3  4        3.0             1           1682     2004-02-03 20:32:39.123   \n",
      "4  5       NaN              1           3343     2004-03-02 11:37:44.100   \n",
      "\n",
      "    Status                   Headline  \\\n",
      "0  deleted                              \n",
      "1  online   Newsletter \"DER STANDARD\"   \n",
      "2  deleted  Auch begeistert...          \n",
      "3  deleted  Abmeldeprobleme             \n",
      "4  online                               \n",
      "\n",
      "                                                                                                                                                                                                                                                                                                                    Body  \\\n",
      "0                                                                                                                                                                                                                                                                                                                          \n",
      "1  Ich bin begeistert von den STANDARD - Newslettern.\\r\\nIn keiner anderen E-Zeitung gibt es eine solche Viel=\\r\\nfalt und so interessante Kommentare bzw. eine so\\r\\ngenaue Berichterstattung. \\r\\n     Macht weiter so, ich finde es jedenfalls toll.\\r\\n\\r\\n\\r\\n                                    Johann Radakovits   \n",
      "2  ... Aber momentan funktioniert das Abmelden oder Adressen ändern überhaupt nicht! In USA macht \\r\\nman dies auf den Servern einfacher.\\r\\n\\r\\nAnsonsten ist DER STANDARD ja wirklich das Beste, was es in Österreich gibt...\\r\\nWeiter im \"Text\"\\r\\n;-)carpeDiem(-;\\r\\n                                                 \n",
      "3  Es ist ganz einfach nervend!\\r\\nVor kurzem habe ich den news-letter angemeldet in der hoffnungsvollen Gewissheit (weil vertrauenserweckend angekündigt), ihn jederzeit wieder stornieren zu können. Aber leider führt kein Weg dahin. Ich wäre dankbar für eine diesbezügliche Hilfe des Lesers dieser eMail.           \n",
      "4  und sie als mitarbeiter sind natuerlich objektiv                                                                                                                                                                                                                                                                        \n",
      "\n",
      "   PositiveVotes  NegativeVotes  \n",
      "0  0              0              \n",
      "1  0              0              \n",
      "2  0              0              \n",
      "3  0              0              \n",
      "4  0              0              \n"
     ]
    }
   ],
   "source": [
    "# Read sqlite query results into a pandas DataFrame\n",
    "con = sqlite3.connect('corpus.sqlite3')\n",
    "df_posts = pd.read_sql_query(\"SELECT * FROM Posts\", con)\n",
    "\n",
    "# Verify that result of SQL query is stored in the dataframe\n",
    "print(df_posts.head())\n",
    "\n",
    "con.close()"
   ]
  },
  {
   "cell_type": "code",
   "execution_count": 230,
   "metadata": {},
   "outputs": [
    {
     "data": {
      "text/html": [
       "<div>\n",
       "<style scoped>\n",
       "    .dataframe tbody tr th:only-of-type {\n",
       "        vertical-align: middle;\n",
       "    }\n",
       "\n",
       "    .dataframe tbody tr th {\n",
       "        vertical-align: top;\n",
       "    }\n",
       "\n",
       "    .dataframe thead th {\n",
       "        text-align: right;\n",
       "    }\n",
       "</style>\n",
       "<table border=\"1\" class=\"dataframe\">\n",
       "  <thead>\n",
       "    <tr style=\"text-align: right;\">\n",
       "      <th></th>\n",
       "      <th>ID_Post</th>\n",
       "      <th>ID_Parent_Post</th>\n",
       "      <th>ID_Article</th>\n",
       "      <th>ID_User</th>\n",
       "      <th>CreatedAt</th>\n",
       "      <th>Status</th>\n",
       "      <th>Headline</th>\n",
       "      <th>Body</th>\n",
       "      <th>PositiveVotes</th>\n",
       "      <th>NegativeVotes</th>\n",
       "    </tr>\n",
       "  </thead>\n",
       "  <tbody>\n",
       "    <tr>\n",
       "      <th>0</th>\n",
       "      <td>1</td>\n",
       "      <td>NaN</td>\n",
       "      <td>1</td>\n",
       "      <td>9089</td>\n",
       "      <td>2003-04-23 14:52:41.870</td>\n",
       "      <td>deleted</td>\n",
       "      <td></td>\n",
       "      <td></td>\n",
       "      <td>0</td>\n",
       "      <td>0</td>\n",
       "    </tr>\n",
       "    <tr>\n",
       "      <th>1</th>\n",
       "      <td>2</td>\n",
       "      <td>NaN</td>\n",
       "      <td>1</td>\n",
       "      <td>29367</td>\n",
       "      <td>2003-11-04 16:21:57.850</td>\n",
       "      <td>online</td>\n",
       "      <td>Newsletter \"DER STANDARD\"</td>\n",
       "      <td>Ich bin begeistert von den STANDARD - Newslettern.\\r\\nIn keiner anderen E-Zeitung gibt es eine solche Viel=\\r\\nfalt und so interessante Kommentare bzw. eine so\\r\\ngenaue Berichterstattung. \\r\\n     Macht weiter so, ich finde es jedenfalls toll.\\r\\n\\r\\n\\r\\n                                    Johann Radakovits</td>\n",
       "      <td>0</td>\n",
       "      <td>0</td>\n",
       "    </tr>\n",
       "    <tr>\n",
       "      <th>2</th>\n",
       "      <td>3</td>\n",
       "      <td>2.0</td>\n",
       "      <td>1</td>\n",
       "      <td>5095</td>\n",
       "      <td>2004-01-28 12:57:28.240</td>\n",
       "      <td>deleted</td>\n",
       "      <td>Auch begeistert...</td>\n",
       "      <td>... Aber momentan funktioniert das Abmelden oder Adressen ändern überhaupt nicht! In USA macht \\r\\nman dies auf den Servern einfacher.\\r\\n\\r\\nAnsonsten ist DER STANDARD ja wirklich das Beste, was es in Österreich gibt...\\r\\nWeiter im \"Text\"\\r\\n;-)carpeDiem(-;\\r\\n</td>\n",
       "      <td>0</td>\n",
       "      <td>0</td>\n",
       "    </tr>\n",
       "    <tr>\n",
       "      <th>3</th>\n",
       "      <td>4</td>\n",
       "      <td>3.0</td>\n",
       "      <td>1</td>\n",
       "      <td>1682</td>\n",
       "      <td>2004-02-03 20:32:39.123</td>\n",
       "      <td>deleted</td>\n",
       "      <td>Abmeldeprobleme</td>\n",
       "      <td>Es ist ganz einfach nervend!\\r\\nVor kurzem habe ich den news-letter angemeldet in der hoffnungsvollen Gewissheit (weil vertrauenserweckend angekündigt), ihn jederzeit wieder stornieren zu können. Aber leider führt kein Weg dahin. Ich wäre dankbar für eine diesbezügliche Hilfe des Lesers dieser eMail.</td>\n",
       "      <td>0</td>\n",
       "      <td>0</td>\n",
       "    </tr>\n",
       "    <tr>\n",
       "      <th>4</th>\n",
       "      <td>5</td>\n",
       "      <td>NaN</td>\n",
       "      <td>1</td>\n",
       "      <td>3343</td>\n",
       "      <td>2004-03-02 11:37:44.100</td>\n",
       "      <td>online</td>\n",
       "      <td></td>\n",
       "      <td>und sie als mitarbeiter sind natuerlich objektiv</td>\n",
       "      <td>0</td>\n",
       "      <td>0</td>\n",
       "    </tr>\n",
       "  </tbody>\n",
       "</table>\n",
       "</div>"
      ],
      "text/plain": [
       "   ID_Post  ID_Parent_Post  ID_Article  ID_User                CreatedAt  \\\n",
       "0  1       NaN              1           9089     2003-04-23 14:52:41.870   \n",
       "1  2       NaN              1           29367    2003-11-04 16:21:57.850   \n",
       "2  3        2.0             1           5095     2004-01-28 12:57:28.240   \n",
       "3  4        3.0             1           1682     2004-02-03 20:32:39.123   \n",
       "4  5       NaN              1           3343     2004-03-02 11:37:44.100   \n",
       "\n",
       "    Status                   Headline  \\\n",
       "0  deleted                              \n",
       "1  online   Newsletter \"DER STANDARD\"   \n",
       "2  deleted  Auch begeistert...          \n",
       "3  deleted  Abmeldeprobleme             \n",
       "4  online                               \n",
       "\n",
       "                                                                                                                                                                                                                                                                                                                    Body  \\\n",
       "0                                                                                                                                                                                                                                                                                                                          \n",
       "1  Ich bin begeistert von den STANDARD - Newslettern.\\r\\nIn keiner anderen E-Zeitung gibt es eine solche Viel=\\r\\nfalt und so interessante Kommentare bzw. eine so\\r\\ngenaue Berichterstattung. \\r\\n     Macht weiter so, ich finde es jedenfalls toll.\\r\\n\\r\\n\\r\\n                                    Johann Radakovits   \n",
       "2  ... Aber momentan funktioniert das Abmelden oder Adressen ändern überhaupt nicht! In USA macht \\r\\nman dies auf den Servern einfacher.\\r\\n\\r\\nAnsonsten ist DER STANDARD ja wirklich das Beste, was es in Österreich gibt...\\r\\nWeiter im \"Text\"\\r\\n;-)carpeDiem(-;\\r\\n                                                 \n",
       "3  Es ist ganz einfach nervend!\\r\\nVor kurzem habe ich den news-letter angemeldet in der hoffnungsvollen Gewissheit (weil vertrauenserweckend angekündigt), ihn jederzeit wieder stornieren zu können. Aber leider führt kein Weg dahin. Ich wäre dankbar für eine diesbezügliche Hilfe des Lesers dieser eMail.           \n",
       "4  und sie als mitarbeiter sind natuerlich objektiv                                                                                                                                                                                                                                                                        \n",
       "\n",
       "   PositiveVotes  NegativeVotes  \n",
       "0  0              0              \n",
       "1  0              0              \n",
       "2  0              0              \n",
       "3  0              0              \n",
       "4  0              0              "
      ]
     },
     "execution_count": 230,
     "metadata": {},
     "output_type": "execute_result"
    }
   ],
   "source": [
    "df_posts.head()"
   ]
  },
  {
   "cell_type": "code",
   "execution_count": 231,
   "metadata": {},
   "outputs": [
    {
     "data": {
      "text/plain": [
       "Index(['ID_Post', 'ID_Parent_Post', 'ID_Article', 'ID_User', 'CreatedAt',\n",
       "       'Status', 'Headline', 'Body', 'PositiveVotes', 'NegativeVotes'],\n",
       "      dtype='object')"
      ]
     },
     "execution_count": 231,
     "metadata": {},
     "output_type": "execute_result"
    }
   ],
   "source": [
    "df_posts.columns"
   ]
  },
  {
   "cell_type": "code",
   "execution_count": 232,
   "metadata": {},
   "outputs": [],
   "source": [
    "columns_to_delete = ['ID_Parent_Post', 'ID_Article', 'ID_User', 'CreatedAt',\n",
    "       'Status', 'Headline', 'PositiveVotes', 'NegativeVotes' ]"
   ]
  },
  {
   "cell_type": "code",
   "execution_count": 233,
   "metadata": {},
   "outputs": [],
   "source": [
    "#delete not needed columns\n",
    "df_posts = df_posts.drop(columns_to_delete, axis = 1)"
   ]
  },
  {
   "cell_type": "code",
   "execution_count": 234,
   "metadata": {},
   "outputs": [
    {
     "data": {
      "text/html": [
       "<div>\n",
       "<style scoped>\n",
       "    .dataframe tbody tr th:only-of-type {\n",
       "        vertical-align: middle;\n",
       "    }\n",
       "\n",
       "    .dataframe tbody tr th {\n",
       "        vertical-align: top;\n",
       "    }\n",
       "\n",
       "    .dataframe thead th {\n",
       "        text-align: right;\n",
       "    }\n",
       "</style>\n",
       "<table border=\"1\" class=\"dataframe\">\n",
       "  <thead>\n",
       "    <tr style=\"text-align: right;\">\n",
       "      <th></th>\n",
       "      <th>ID_Post</th>\n",
       "      <th>Body</th>\n",
       "    </tr>\n",
       "  </thead>\n",
       "  <tbody>\n",
       "    <tr>\n",
       "      <th>205457</th>\n",
       "      <td>205458</td>\n",
       "      <td>Na, wurdest von der Vali in Saalbach abgehängt?</td>\n",
       "    </tr>\n",
       "    <tr>\n",
       "      <th>229507</th>\n",
       "      <td>229508</td>\n",
       "      <td>und kickl sein vize\\r\\n\\r\\ndie tätatn wien weiter bringen \\r\\n\\r\\n;-)</td>\n",
       "    </tr>\n",
       "    <tr>\n",
       "      <th>291304</th>\n",
       "      <td>291305</td>\n",
       "      <td>Die Wahrheit und die FPÖ - eine Geschichte voller Missverständnisse.</td>\n",
       "    </tr>\n",
       "    <tr>\n",
       "      <th>975251</th>\n",
       "      <td>975252</td>\n",
       "      <td>Sevilla hat es einfach klug gemacht und sich vor der Saison mit Serie A Größen wie Rami, Andreolli und Llorente verstärkt.</td>\n",
       "    </tr>\n",
       "    <tr>\n",
       "      <th>205445</th>\n",
       "      <td>205446</td>\n",
       "      <td>Und wo war da jetzt das Argument gegen den Feminismus? Gäbe es den nicht, hätte das Mädchen nicht mal die Möglichkeit, an einem Bewerb in dieser Sportart teilzunehmen - viel zu gefährlich für eine heranreifende Mutter.\\r\\n\\r\\nEs ist ein Irrglaube, dass der Feminismus etwas dagegen hat, wenn Frauen Hausfrauen und Mütter werden. Es sollte nur von der Gesellschaft nicht mehr gefördert werden, als wenn Sie Downhill fährt.</td>\n",
       "    </tr>\n",
       "  </tbody>\n",
       "</table>\n",
       "</div>"
      ],
      "text/plain": [
       "        ID_Post  \\\n",
       "205457  205458    \n",
       "229507  229508    \n",
       "291304  291305    \n",
       "975251  975252    \n",
       "205445  205446    \n",
       "\n",
       "                                                                                                                                                                                                                                                                                                                                                                                                                                         Body  \n",
       "205457  Na, wurdest von der Vali in Saalbach abgehängt?                                                                                                                                                                                                                                                                                                                                                                                        \n",
       "229507  und kickl sein vize\\r\\n\\r\\ndie tätatn wien weiter bringen \\r\\n\\r\\n;-)                                                                                                                                                                                                                                                                                                                                                                  \n",
       "291304  Die Wahrheit und die FPÖ - eine Geschichte voller Missverständnisse.                                                                                                                                                                                                                                                                                                                                                                   \n",
       "975251  Sevilla hat es einfach klug gemacht und sich vor der Saison mit Serie A Größen wie Rami, Andreolli und Llorente verstärkt.                                                                                                                                                                                                                                                                                                             \n",
       "205445  Und wo war da jetzt das Argument gegen den Feminismus? Gäbe es den nicht, hätte das Mädchen nicht mal die Möglichkeit, an einem Bewerb in dieser Sportart teilzunehmen - viel zu gefährlich für eine heranreifende Mutter.\\r\\n\\r\\nEs ist ein Irrglaube, dass der Feminismus etwas dagegen hat, wenn Frauen Hausfrauen und Mütter werden. Es sollte nur von der Gesellschaft nicht mehr gefördert werden, als wenn Sie Downhill fährt.  "
      ]
     },
     "execution_count": 234,
     "metadata": {},
     "output_type": "execute_result"
    }
   ],
   "source": [
    "df_posts.sample(5)"
   ]
  },
  {
   "cell_type": "code",
   "execution_count": null,
   "metadata": {},
   "outputs": [],
   "source": []
  },
  {
   "cell_type": "code",
   "execution_count": 274,
   "metadata": {},
   "outputs": [
    {
     "data": {
      "text/plain": [
       "(3037, 9)"
      ]
     },
     "execution_count": 274,
     "metadata": {},
     "output_type": "execute_result"
    }
   ],
   "source": [
    "#merge df with comments with df with sentiment, delete rows with empty posts\n",
    "df_final = pd.merge(df_sentiment, df_posts, on='ID_Post')\n",
    "df_final = df_final.dropna(subset=['Body'])\n",
    "df_final.shape"
   ]
  },
  {
   "cell_type": "code",
   "execution_count": 276,
   "metadata": {},
   "outputs": [
    {
     "data": {
      "text/html": [
       "<div>\n",
       "<style scoped>\n",
       "    .dataframe tbody tr th:only-of-type {\n",
       "        vertical-align: middle;\n",
       "    }\n",
       "\n",
       "    .dataframe tbody tr th {\n",
       "        vertical-align: top;\n",
       "    }\n",
       "\n",
       "    .dataframe thead th {\n",
       "        text-align: right;\n",
       "    }\n",
       "</style>\n",
       "<table border=\"1\" class=\"dataframe\">\n",
       "  <thead>\n",
       "    <tr style=\"text-align: right;\">\n",
       "      <th></th>\n",
       "      <th>ID_Post</th>\n",
       "      <th>ID_Annotator</th>\n",
       "      <th>Category</th>\n",
       "      <th>Value</th>\n",
       "      <th>is_neutral</th>\n",
       "      <th>is_positive</th>\n",
       "      <th>is_negative</th>\n",
       "      <th>sum_agg</th>\n",
       "      <th>Body</th>\n",
       "    </tr>\n",
       "  </thead>\n",
       "  <tbody>\n",
       "    <tr>\n",
       "      <th>766</th>\n",
       "      <td>124560</td>\n",
       "      <td>1</td>\n",
       "      <td>SentimentNeutral</td>\n",
       "      <td>1</td>\n",
       "      <td>1</td>\n",
       "      <td>0</td>\n",
       "      <td>0</td>\n",
       "      <td>1</td>\n",
       "      <td>Ich weiß, was Menschenverachtung bedeutet. Das ist die Haltung des jeweiligen Nebenmenschen, gelt. Der Vorwurf wird (inflationär) missbraucht. Beispielsweise auch hier von Ihnen. Sie unterstellen Unverständnis, weil jemand Ihre Sicht nicht teilt. Weil sie sich Ihrer Ideologie nicht fügt. Sie unterstellen Verächtlichkeit gg Bedürftige, obwohl sie sehr deutlich gg Privilegierte anschreibt. Inhaltlich bieten Sie leider nichts an. Was genau kritisieren Sie denn? Wenn ich an Ihrer Stelle wäre, würde ich mir einzelne Sätze herauspicken und ihre vermeintlich prekäre Wirkung demonstrieren. Aber Sie belassen es beim popanzigen Vorwurf der Menschenverachtung. Ich teile Ihre Meinung nicht, ohne Ihnen deshalb Menschenverachtung vorzuwerfen ;-)</td>\n",
       "    </tr>\n",
       "    <tr>\n",
       "      <th>1808</th>\n",
       "      <td>942203</td>\n",
       "      <td>1</td>\n",
       "      <td>SentimentNegative</td>\n",
       "      <td>1</td>\n",
       "      <td>0</td>\n",
       "      <td>0</td>\n",
       "      <td>1</td>\n",
       "      <td>1</td>\n",
       "      <td>\"Doch ein Einreisezertifikat sei von der kenianischen Botschaft nicht ausgestellt worden.\"\\r\\n\\r\\nBotschaft sofort schliessen.\\r\\n\\r\\nDie ist Mitschuld am Mord und hat ihr Recht hier zu sein verwirkt.\\r\\n\\r\\nWieso toleriert Österreich Botschaften die Gangster schicken?</td>\n",
       "    </tr>\n",
       "    <tr>\n",
       "      <th>2773</th>\n",
       "      <td>876044</td>\n",
       "      <td>4</td>\n",
       "      <td>SentimentNegative</td>\n",
       "      <td>1</td>\n",
       "      <td>0</td>\n",
       "      <td>0</td>\n",
       "      <td>1</td>\n",
       "      <td>1</td>\n",
       "      <td>Griechische Behörden beschuldigen Aktivisten, die Flüchtlinge im Lager Idomeni anzustacheln. Immer wieder gibt es dort Tumulte. Wer ist wirklich verantwortlich? Eine Spurensuche vor Ort.\\r\\n\\r\\nhttp://www.spiegel.de/politik/ausland/fluechtlinge-in-idomeni-aktivisten-sollen-unruhen-anzetteln-a-1086805.html</td>\n",
       "    </tr>\n",
       "    <tr>\n",
       "      <th>2908</th>\n",
       "      <td>896137</td>\n",
       "      <td>2</td>\n",
       "      <td>SentimentNegative</td>\n",
       "      <td>1</td>\n",
       "      <td>0</td>\n",
       "      <td>0</td>\n",
       "      <td>1</td>\n",
       "      <td>1</td>\n",
       "      <td>Ähm!? Und warum genau ist das ihrer Meinung nach kein zulässiges Argument? \\r\\n\\r\\nDie Anzahl der Asylanträge hat sich 2015 gegenüber 2014 fast verdreifacht; da ist eine entsprechende absolute Steigerung der Straftaten -ohne das jetzt sonst irgendwie bewerten zu wollen- ganz einfach eine rein statistische Konsequenz daraus. \\r\\nWenn wir jetzt plötzlich doppelt so viele Österreicher im Land hätten, dann würden die (absoluten) Statistiken ja auch nicht gleich bleiben, oder ?!\\r\\n\\r\\nPs: Außerdem sollten Sie auf präzisere Formulierungen achten, wenn Sie mit Statistiken hantieren;  es müsste heißen \"in der Gruppe der 14-17 jährigen Asylwerber\". Ihre Formulierung suggeriert eine Verdopplung der Jugendkriminalität insgesamt in dieser Altersgruppe.</td>\n",
       "    </tr>\n",
       "    <tr>\n",
       "      <th>2456</th>\n",
       "      <td>140625</td>\n",
       "      <td>2</td>\n",
       "      <td>SentimentNegative</td>\n",
       "      <td>1</td>\n",
       "      <td>0</td>\n",
       "      <td>0</td>\n",
       "      <td>1</td>\n",
       "      <td>1</td>\n",
       "      <td>Schade das sein echter Name nicht genannt wurde, da hätte die Asylbehörde einen Beweis in der Hand das er nur ein Scheinasylant ist!</td>\n",
       "    </tr>\n",
       "  </tbody>\n",
       "</table>\n",
       "</div>"
      ],
      "text/plain": [
       "      ID_Post  ID_Annotator           Category  Value  is_neutral  \\\n",
       "766   124560   1             SentimentNeutral   1      1            \n",
       "1808  942203   1             SentimentNegative  1      0            \n",
       "2773  876044   4             SentimentNegative  1      0            \n",
       "2908  896137   2             SentimentNegative  1      0            \n",
       "2456  140625   2             SentimentNegative  1      0            \n",
       "\n",
       "      is_positive  is_negative  sum_agg  \\\n",
       "766   0            0            1         \n",
       "1808  0            1            1         \n",
       "2773  0            1            1         \n",
       "2908  0            1            1         \n",
       "2456  0            1            1         \n",
       "\n",
       "                                                                                                                                                                                                                                                                                                                                                                                                                                                                                                                                                                                                                                                                                                                                                                                 Body  \n",
       "766   Ich weiß, was Menschenverachtung bedeutet. Das ist die Haltung des jeweiligen Nebenmenschen, gelt. Der Vorwurf wird (inflationär) missbraucht. Beispielsweise auch hier von Ihnen. Sie unterstellen Unverständnis, weil jemand Ihre Sicht nicht teilt. Weil sie sich Ihrer Ideologie nicht fügt. Sie unterstellen Verächtlichkeit gg Bedürftige, obwohl sie sehr deutlich gg Privilegierte anschreibt. Inhaltlich bieten Sie leider nichts an. Was genau kritisieren Sie denn? Wenn ich an Ihrer Stelle wäre, würde ich mir einzelne Sätze herauspicken und ihre vermeintlich prekäre Wirkung demonstrieren. Aber Sie belassen es beim popanzigen Vorwurf der Menschenverachtung. Ich teile Ihre Meinung nicht, ohne Ihnen deshalb Menschenverachtung vorzuwerfen ;-)            \n",
       "1808  \"Doch ein Einreisezertifikat sei von der kenianischen Botschaft nicht ausgestellt worden.\"\\r\\n\\r\\nBotschaft sofort schliessen.\\r\\n\\r\\nDie ist Mitschuld am Mord und hat ihr Recht hier zu sein verwirkt.\\r\\n\\r\\nWieso toleriert Österreich Botschaften die Gangster schicken?                                                                                                                                                                                                                                                                                                                                                                                                                                                                                                    \n",
       "2773  Griechische Behörden beschuldigen Aktivisten, die Flüchtlinge im Lager Idomeni anzustacheln. Immer wieder gibt es dort Tumulte. Wer ist wirklich verantwortlich? Eine Spurensuche vor Ort.\\r\\n\\r\\nhttp://www.spiegel.de/politik/ausland/fluechtlinge-in-idomeni-aktivisten-sollen-unruhen-anzetteln-a-1086805.html                                                                                                                                                                                                                                                                                                                                                                                                                                                               \n",
       "2908  Ähm!? Und warum genau ist das ihrer Meinung nach kein zulässiges Argument? \\r\\n\\r\\nDie Anzahl der Asylanträge hat sich 2015 gegenüber 2014 fast verdreifacht; da ist eine entsprechende absolute Steigerung der Straftaten -ohne das jetzt sonst irgendwie bewerten zu wollen- ganz einfach eine rein statistische Konsequenz daraus. \\r\\nWenn wir jetzt plötzlich doppelt so viele Österreicher im Land hätten, dann würden die (absoluten) Statistiken ja auch nicht gleich bleiben, oder ?!\\r\\n\\r\\nPs: Außerdem sollten Sie auf präzisere Formulierungen achten, wenn Sie mit Statistiken hantieren;  es müsste heißen \"in der Gruppe der 14-17 jährigen Asylwerber\". Ihre Formulierung suggeriert eine Verdopplung der Jugendkriminalität insgesamt in dieser Altersgruppe.  \n",
       "2456  Schade das sein echter Name nicht genannt wurde, da hätte die Asylbehörde einen Beweis in der Hand das er nur ein Scheinasylant ist!                                                                                                                                                                                                                                                                                                                                                                                                                                                                                                                                                                                                                                             "
      ]
     },
     "execution_count": 276,
     "metadata": {},
     "output_type": "execute_result"
    }
   ],
   "source": [
    "df_final.sample(5)"
   ]
  },
  {
   "cell_type": "code",
   "execution_count": 277,
   "metadata": {},
   "outputs": [],
   "source": [
    "#maping sentiment into one column: -1 for negative, 0 for neutral, 1 for positive\n",
    "sentiment_map = {'SentimentNeutral': 0, 'SentimentPositive': 1, 'SentimentNegative': -1}\n",
    "df_final['sentiment'] = df_final['Category'].map(sentiment_map)"
   ]
  },
  {
   "cell_type": "code",
   "execution_count": 279,
   "metadata": {},
   "outputs": [
    {
     "data": {
      "text/html": [
       "<div>\n",
       "<style scoped>\n",
       "    .dataframe tbody tr th:only-of-type {\n",
       "        vertical-align: middle;\n",
       "    }\n",
       "\n",
       "    .dataframe tbody tr th {\n",
       "        vertical-align: top;\n",
       "    }\n",
       "\n",
       "    .dataframe thead th {\n",
       "        text-align: right;\n",
       "    }\n",
       "</style>\n",
       "<table border=\"1\" class=\"dataframe\">\n",
       "  <thead>\n",
       "    <tr style=\"text-align: right;\">\n",
       "      <th></th>\n",
       "      <th>ID_Post</th>\n",
       "      <th>ID_Annotator</th>\n",
       "      <th>Category</th>\n",
       "      <th>Value</th>\n",
       "      <th>is_neutral</th>\n",
       "      <th>is_positive</th>\n",
       "      <th>is_negative</th>\n",
       "      <th>sum_agg</th>\n",
       "      <th>Body</th>\n",
       "      <th>sentiment</th>\n",
       "    </tr>\n",
       "  </thead>\n",
       "  <tbody>\n",
       "    <tr>\n",
       "      <th>0</th>\n",
       "      <td>3326</td>\n",
       "      <td>1</td>\n",
       "      <td>SentimentNeutral</td>\n",
       "      <td>1</td>\n",
       "      <td>1</td>\n",
       "      <td>0</td>\n",
       "      <td>0</td>\n",
       "      <td>1</td>\n",
       "      <td>Top qualifizierte Leute verdienen auch viel.</td>\n",
       "      <td>0</td>\n",
       "    </tr>\n",
       "    <tr>\n",
       "      <th>1</th>\n",
       "      <td>5590</td>\n",
       "      <td>1</td>\n",
       "      <td>SentimentNeutral</td>\n",
       "      <td>1</td>\n",
       "      <td>1</td>\n",
       "      <td>0</td>\n",
       "      <td>0</td>\n",
       "      <td>1</td>\n",
       "      <td>Sorry, aber die FPÖ tut eigentlich gar nichts und gewinnt TROTZDEM.</td>\n",
       "      <td>0</td>\n",
       "    </tr>\n",
       "    <tr>\n",
       "      <th>2</th>\n",
       "      <td>8213</td>\n",
       "      <td>1</td>\n",
       "      <td>SentimentNeutral</td>\n",
       "      <td>1</td>\n",
       "      <td>1</td>\n",
       "      <td>0</td>\n",
       "      <td>0</td>\n",
       "      <td>1</td>\n",
       "      <td>Na wer weis was da vorgefallen ist...</td>\n",
       "      <td>0</td>\n",
       "    </tr>\n",
       "    <tr>\n",
       "      <th>3</th>\n",
       "      <td>13038</td>\n",
       "      <td>1</td>\n",
       "      <td>SentimentNeutral</td>\n",
       "      <td>1</td>\n",
       "      <td>1</td>\n",
       "      <td>0</td>\n",
       "      <td>0</td>\n",
       "      <td>1</td>\n",
       "      <td>was die meise gibt kein black metal konzert?</td>\n",
       "      <td>0</td>\n",
       "    </tr>\n",
       "    <tr>\n",
       "      <th>4</th>\n",
       "      <td>13060</td>\n",
       "      <td>1</td>\n",
       "      <td>SentimentNeutral</td>\n",
       "      <td>1</td>\n",
       "      <td>1</td>\n",
       "      <td>0</td>\n",
       "      <td>0</td>\n",
       "      <td>1</td>\n",
       "      <td>Musst nicht, sonst gäbs weniger Spaß! ^^</td>\n",
       "      <td>0</td>\n",
       "    </tr>\n",
       "  </tbody>\n",
       "</table>\n",
       "</div>"
      ],
      "text/plain": [
       "   ID_Post  ID_Annotator          Category  Value  is_neutral  is_positive  \\\n",
       "0  3326     1             SentimentNeutral  1      1           0             \n",
       "1  5590     1             SentimentNeutral  1      1           0             \n",
       "2  8213     1             SentimentNeutral  1      1           0             \n",
       "3  13038    1             SentimentNeutral  1      1           0             \n",
       "4  13060    1             SentimentNeutral  1      1           0             \n",
       "\n",
       "   is_negative  sum_agg  \\\n",
       "0  0            1         \n",
       "1  0            1         \n",
       "2  0            1         \n",
       "3  0            1         \n",
       "4  0            1         \n",
       "\n",
       "                                                                  Body  \\\n",
       "0  Top qualifizierte Leute verdienen auch viel.                          \n",
       "1  Sorry, aber die FPÖ tut eigentlich gar nichts und gewinnt TROTZDEM.   \n",
       "2  Na wer weis was da vorgefallen ist...                                 \n",
       "3  was die meise gibt kein black metal konzert?                          \n",
       "4  Musst nicht, sonst gäbs weniger Spaß! ^^                              \n",
       "\n",
       "   sentiment  \n",
       "0  0          \n",
       "1  0          \n",
       "2  0          \n",
       "3  0          \n",
       "4  0          "
      ]
     },
     "execution_count": 279,
     "metadata": {},
     "output_type": "execute_result"
    }
   ],
   "source": [
    "df_final.head(5)"
   ]
  },
  {
   "cell_type": "code",
   "execution_count": 281,
   "metadata": {},
   "outputs": [
    {
     "name": "stdout",
     "output_type": "stream",
     "text": [
      "19126\n"
     ]
    },
    {
     "data": {
      "text/plain": [
       "['die',\n",
       " 'und',\n",
       " 'der',\n",
       " 'nicht',\n",
       " 'ist',\n",
       " 'in',\n",
       " 'das',\n",
       " 'zu',\n",
       " 'es',\n",
       " 'auch',\n",
       " 'sie',\n",
       " 'sich',\n",
       " 'ein',\n",
       " 'dass',\n",
       " 'man',\n",
       " 'den',\n",
       " 'von',\n",
       " 'ich',\n",
       " 'mit',\n",
       " 'sind',\n",
       " 'aber',\n",
       " 'eine',\n",
       " 'für',\n",
       " 'als',\n",
       " 'so',\n",
       " 'wird',\n",
       " 'auf',\n",
       " 'nur',\n",
       " 'wie',\n",
       " 'im',\n",
       " 'hat',\n",
       " 'Sie',\n",
       " 'werden',\n",
       " 'wenn',\n",
       " 'oder',\n",
       " 'dann',\n",
       " 'haben',\n",
       " 'kann',\n",
       " 'noch',\n",
       " 'ja',\n",
       " 'schon',\n",
       " 'dem',\n",
       " 'was',\n",
       " 'er',\n",
       " 'aus',\n",
       " 'bei',\n",
       " 'Das',\n",
       " 'Frauen',\n",
       " 'an',\n",
       " 'da']"
      ]
     },
     "execution_count": 281,
     "metadata": {},
     "output_type": "execute_result"
    }
   ],
   "source": [
    "#checking the top words used in reviews by frequency distribution\n",
    "\n",
    "#combining all reviews into one string\n",
    "posts = df_final['Body'].str.cat(sep='')\n",
    "\n",
    "#spliting text into separate words\n",
    "tokenizer = RegexpTokenizer(r'\\w+')\n",
    "tokens = tokenizer.tokenize(posts)\n",
    "\n",
    "#setting vocabulary\n",
    "vocabulary = set(tokens)\n",
    "print(len(vocabulary))\n",
    "\n",
    "freq_distr = nltk.FreqDist(tokens)\n",
    "\n",
    "#sorting top 50 tokens\n",
    "sorted(freq_distr, key=freq_distr.__getitem__, reverse=True)[0:50]"
   ]
  },
  {
   "cell_type": "code",
   "execution_count": 282,
   "metadata": {},
   "outputs": [
    {
     "data": {
      "text/plain": [
       "['Sie',\n",
       " 'ja',\n",
       " 'schon',\n",
       " 'Das',\n",
       " 'Frauen',\n",
       " 'Ich',\n",
       " 'mehr',\n",
       " 'Die',\n",
       " 'gibt',\n",
       " 'Und',\n",
       " 'immer',\n",
       " 'mal',\n",
       " 'Es',\n",
       " 'Menschen',\n",
       " 'Wenn',\n",
       " 'einfach',\n",
       " 'Israel',\n",
       " 'wohl',\n",
       " 'wäre',\n",
       " 'geht',\n",
       " 'Frau',\n",
       " 'Männer',\n",
       " 'http',\n",
       " 'Gewalt',\n",
       " 'wurde',\n",
       " 'Was',\n",
       " 'gut',\n",
       " 'www',\n",
       " 'ganz',\n",
       " 's',\n",
       " 'Aber',\n",
       " '2',\n",
       " 'Der',\n",
       " 'wirklich',\n",
       " 'halt',\n",
       " 'Artikel',\n",
       " 'Österreich',\n",
       " 'Mann',\n",
       " 'viele',\n",
       " 'Land',\n",
       " 'In',\n",
       " 'gar',\n",
       " 'kommt',\n",
       " 'genau',\n",
       " 'müssen',\n",
       " 'hätte',\n",
       " 'tun',\n",
       " 'Flüchtlinge',\n",
       " '1',\n",
       " 'weniger']"
      ]
     },
     "execution_count": 282,
     "metadata": {},
     "output_type": "execute_result"
    }
   ],
   "source": [
    "#we have to remove stopwords\n",
    "\n",
    "stop_words = set(stopwords.words('german'))\n",
    "tokens = [w for w in tokens if not w in stop_words]\n",
    "freq_distr = nltk.FreqDist(tokens)\n",
    "\n",
    "#sorting top 50 tokens\n",
    "sorted(freq_distr, key=freq_distr.__getitem__, reverse=True)[0:50]"
   ]
  },
  {
   "cell_type": "markdown",
   "metadata": {},
   "source": [
    "NAIVE BAYES CLASSIFIER"
   ]
  },
  {
   "cell_type": "code",
   "execution_count": 283,
   "metadata": {},
   "outputs": [],
   "source": [
    "X_train = df_final.loc[:2000, 'Body'].values\n",
    "y_train = df_final.loc[:2000, 'sentiment'].values\n",
    "X_test = df_final.loc[2000:, 'Body'].values\n",
    "y_test = df_final.loc[2000:, 'sentiment'].values"
   ]
  },
  {
   "cell_type": "code",
   "execution_count": 284,
   "metadata": {},
   "outputs": [
    {
     "name": "stdout",
     "output_type": "stream",
     "text": [
      "(1924, 12805) (1114, 12805)\n"
     ]
    }
   ],
   "source": [
    "#converting text into feature vectors with TF-IDF\n",
    "vectorizer = TfidfVectorizer()\n",
    "train_vectors = vectorizer.fit_transform(X_train)\n",
    "test_vectors = vectorizer.transform(X_test)\n",
    "print(train_vectors.shape, test_vectors.shape)"
   ]
  },
  {
   "cell_type": "code",
   "execution_count": 285,
   "metadata": {},
   "outputs": [],
   "source": [
    "clf = MultinomialNB().fit(train_vectors, y_train)"
   ]
  },
  {
   "cell_type": "code",
   "execution_count": 286,
   "metadata": {},
   "outputs": [
    {
     "name": "stdout",
     "output_type": "stream",
     "text": [
      "0.0\n"
     ]
    }
   ],
   "source": [
    "predicted = clf.predict(test_vectors)\n",
    "print(accuracy_score(y_test,predicted))"
   ]
  },
  {
   "cell_type": "markdown",
   "metadata": {},
   "source": [
    "XGBOOST"
   ]
  },
  {
   "cell_type": "code",
   "execution_count": 287,
   "metadata": {},
   "outputs": [],
   "source": [
    "model = xgb.XGBClassifier(random_state=8888,max_depth=7, n_estimators=300, objective='binary:logistic')"
   ]
  },
  {
   "cell_type": "code",
   "execution_count": 288,
   "metadata": {},
   "outputs": [
    {
     "data": {
      "text/plain": [
       "XGBClassifier(base_score=0.5, booster='gbtree', colsample_bylevel=1,\n",
       "       colsample_bynode=1, colsample_bytree=1, gamma=0, learning_rate=0.1,\n",
       "       max_delta_step=0, max_depth=7, min_child_weight=1, missing=None,\n",
       "       n_estimators=300, n_jobs=1, nthread=None,\n",
       "       objective='multi:softprob', random_state=8888, reg_alpha=0,\n",
       "       reg_lambda=1, scale_pos_weight=1, seed=None, silent=None,\n",
       "       subsample=1, verbosity=1)"
      ]
     },
     "execution_count": 288,
     "metadata": {},
     "output_type": "execute_result"
    }
   ],
   "source": [
    "model.fit(train_vectors, y_train)"
   ]
  },
  {
   "cell_type": "code",
   "execution_count": 289,
   "metadata": {},
   "outputs": [
    {
     "name": "stdout",
     "output_type": "stream",
     "text": [
      "0.05655296229802514\n"
     ]
    }
   ],
   "source": [
    "prediction = model.predict(test_vectors)\n",
    "print(accuracy_score(y_test,prediction))"
   ]
  },
  {
   "cell_type": "code",
   "execution_count": null,
   "metadata": {},
   "outputs": [],
   "source": []
  }
 ],
 "metadata": {
  "kernelspec": {
   "display_name": "Python 3",
   "language": "python",
   "name": "python3"
  },
  "language_info": {
   "codemirror_mode": {
    "name": "ipython",
    "version": 3
   },
   "file_extension": ".py",
   "mimetype": "text/x-python",
   "name": "python",
   "nbconvert_exporter": "python",
   "pygments_lexer": "ipython3",
   "version": "3.7.3"
  }
 },
 "nbformat": 4,
 "nbformat_minor": 2
}
