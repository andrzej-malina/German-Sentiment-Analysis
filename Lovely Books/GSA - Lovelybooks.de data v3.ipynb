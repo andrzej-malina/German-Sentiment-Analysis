{
 "cells": [
  {
   "cell_type": "code",
   "execution_count": 38,
   "metadata": {},
   "outputs": [],
   "source": [
    "import numpy as np\n",
    "import pandas as pd\n",
    "import pickle\n",
    "\n",
    "from sklearn.feature_extraction.text import CountVectorizer\n",
    "from sklearn.feature_extraction.text import TfidfTransformer\n",
    "\n",
    "from sklearn.naive_bayes import MultinomialNB\n",
    "from sklearn.naive_bayes import GaussianNB\n",
    "from sklearn.linear_model import SGDClassifier\n",
    "import xgboost as xgb\n",
    "\n",
    "from sklearn.model_selection import StratifiedKFold\n",
    "from sklearn.model_selection import train_test_split\n",
    "from sklearn import metrics\n",
    "from sklearn.pipeline import Pipeline\n",
    "\n",
    "from  sklearn.metrics  import accuracy_score\n",
    "\n",
    "pd.set_option('display.max_colwidth', 500)\n",
    "pd.set_option('display.max_columns', 500)"
   ]
  },
  {
   "cell_type": "code",
   "execution_count": 7,
   "metadata": {},
   "outputs": [],
   "source": [
    "#loading data\n",
    "df_all = pd.read_pickle('df_all.pkl')"
   ]
  },
  {
   "cell_type": "code",
   "execution_count": 8,
   "metadata": {},
   "outputs": [
    {
     "data": {
      "text/html": [
       "<div>\n",
       "<style scoped>\n",
       "    .dataframe tbody tr th:only-of-type {\n",
       "        vertical-align: middle;\n",
       "    }\n",
       "\n",
       "    .dataframe tbody tr th {\n",
       "        vertical-align: top;\n",
       "    }\n",
       "\n",
       "    .dataframe thead th {\n",
       "        text-align: right;\n",
       "    }\n",
       "</style>\n",
       "<table border=\"1\" class=\"dataframe\">\n",
       "  <thead>\n",
       "    <tr style=\"text-align: right;\">\n",
       "      <th></th>\n",
       "      <th>rating</th>\n",
       "      <th>fullTextHtml</th>\n",
       "    </tr>\n",
       "  </thead>\n",
       "  <tbody>\n",
       "    <tr>\n",
       "      <th>0</th>\n",
       "      <td>4</td>\n",
       "      <td>&lt;p&gt;&lt;span&gt;Wie kam ich zu diesem Buch?&lt;/span&gt;&lt;br&gt;&lt;span&gt;Durch eine Leserunde wurde ich auf das Buch bzw. die Autorin aufmerksam. Ich habe bereits einige Bücher von Regina Mengel gelesen.&lt;/span&gt;&lt;br&gt;&lt;br&gt;&lt;span&gt;Wie finde ich Cover und Titel?&lt;/span&gt;&lt;br&gt;&lt;span&gt;Das Cover finde ich ganz witzig, eindeutig ein Frauenroman. Der Titel bereitet auch gleich ein wenig auf die Story vor.&lt;/span&gt;&lt;br&gt;&lt;br&gt;&lt;span&gt;Um was geht’s?&lt;/span&gt;&lt;br&gt;&lt;span&gt;Auf den Inhalt gehe ich an dieser Stelle nicht ein, den Klappentext könnt ...</td>\n",
       "    </tr>\n",
       "    <tr>\n",
       "      <th>1</th>\n",
       "      <td>5</td>\n",
       "      <td>&lt;p&gt;&lt;br&gt;Lisa freut sich auf den Tag ihre Lebens \"Ihre Hochzeit\",&lt;br&gt;Doch als es dann endlich soweit ist, und sie gerade am Altar ist,meldet sich Simon.&lt;br&gt;&lt;br&gt;&lt;br&gt;Simon hat sie vor Monaten einfach so sang und klanglos , von heut auf morgen verlassen.&lt;br&gt;Nie eine Nachricht oder Begründung warum? Wieso?&lt;br&gt;Und gerade am Tag ihrer Hochzeit ,taucht er auch noch in ihrer Kirche zu ihrer Trauung auf.&lt;br&gt;Warum????&lt;br&gt;&lt;br&gt;&lt;br&gt;Ich fand es klasse,zu erfahren was zu Simons weggang,also alles was vor der...</td>\n",
       "    </tr>\n",
       "    <tr>\n",
       "      <th>2</th>\n",
       "      <td>5</td>\n",
       "      <td>&lt;p&gt;&lt;strong&gt;Klappentext:&lt;/strong&gt;&lt;br&gt;&lt;br&gt;Weg ist er … Ohne ein Wort des Abschieds. Lisa kann es nicht fassen. Sollte Simon sie wirklich aus Eifersucht auf ein Huhn verlassen haben? Eine Antwort bekommt sie nicht, denn Simon bleibt verschwunden. Einige Monate später tritt David in ihr Leben. Er gefällt ihr auf Anhieb, vor allem, da er sich als das genaue Gegenteil von Simon erweist. Auch David scheint sich verliebt zu haben, denn schon bald macht er Lisa einen Heiratsantrag. Oder sollte doch e...</td>\n",
       "    </tr>\n",
       "    <tr>\n",
       "      <th>3</th>\n",
       "      <td>5</td>\n",
       "      <td>&lt;p&gt;Überraschungen auf einer Hochzeit sind ja an der Tagesordnung, aber den Ex mit dem Lieblingshuhn auf dem Arm zu sehen, gehört nicht dazu. Lisas Hochzeit mit Daniel steht unter keinem guten Stern, denn Simon, Lisas Ex steht plötzlich mitten in der Kirche. Im Arm hält er Lisas Samstagshuhn Antje, sie war der Grund der Trennung.&lt;br&gt;Was führt Simon im Schilde?&lt;br&gt;Nachdem Simon ohne eine Wort zu sagen verschwunden ist, taucht in Lisas Leben Daniel auf. Er ist das komplette Gegenteil von Simon ...</td>\n",
       "    </tr>\n",
       "    <tr>\n",
       "      <th>4</th>\n",
       "      <td>4</td>\n",
       "      <td>&lt;p&gt;&lt;strong&gt;Klappentext:&lt;/strong&gt;&lt;br&gt;Als David vor Lisa auf die Knie geht und sie bittet seine Frau zu werden, scheint ihr Glück perfekt. Doch warum muss sie immerzu an Simon, ihren Exfreund, denken? Ausgerechnet Simon, der sie – eifersüchtig auf ihr Lieblingshuhn – ohne ein Abschiedswort verlassen hat. &lt;br&gt; &lt;br&gt;Schluss mit Liebeskummer! Lange genug hat sie dem Mistkerl hinterher geweint. Lisa, die sich gern in peinliche bis katastrophale Situationen plappert, die nicht geradeaus sondern mind...</td>\n",
       "    </tr>\n",
       "  </tbody>\n",
       "</table>\n",
       "</div>"
      ],
      "text/plain": [
       "  rating  \\\n",
       "0      4   \n",
       "1      5   \n",
       "2      5   \n",
       "3      5   \n",
       "4      4   \n",
       "\n",
       "                                                                                                                                                                                                                                                                                                                                                                                                                                                                                                          fullTextHtml  \n",
       "0  <p><span>Wie kam ich zu diesem Buch?</span><br><span>Durch eine Leserunde wurde ich auf das Buch bzw. die Autorin aufmerksam. Ich habe bereits einige Bücher von Regina Mengel gelesen.</span><br><br><span>Wie finde ich Cover und Titel?</span><br><span>Das Cover finde ich ganz witzig, eindeutig ein Frauenroman. Der Titel bereitet auch gleich ein wenig auf die Story vor.</span><br><br><span>Um was geht’s?</span><br><span>Auf den Inhalt gehe ich an dieser Stelle nicht ein, den Klappentext könnt ...  \n",
       "1  <p><br>Lisa freut sich auf den Tag ihre Lebens \"Ihre Hochzeit\",<br>Doch als es dann endlich soweit ist, und sie gerade am Altar ist,meldet sich Simon.<br><br><br>Simon hat sie vor Monaten einfach so sang und klanglos , von heut auf morgen verlassen.<br>Nie eine Nachricht oder Begründung warum? Wieso?<br>Und gerade am Tag ihrer Hochzeit ,taucht er auch noch in ihrer Kirche zu ihrer Trauung auf.<br>Warum????<br><br><br>Ich fand es klasse,zu erfahren was zu Simons weggang,also alles was vor der...  \n",
       "2  <p><strong>Klappentext:</strong><br><br>Weg ist er … Ohne ein Wort des Abschieds. Lisa kann es nicht fassen. Sollte Simon sie wirklich aus Eifersucht auf ein Huhn verlassen haben? Eine Antwort bekommt sie nicht, denn Simon bleibt verschwunden. Einige Monate später tritt David in ihr Leben. Er gefällt ihr auf Anhieb, vor allem, da er sich als das genaue Gegenteil von Simon erweist. Auch David scheint sich verliebt zu haben, denn schon bald macht er Lisa einen Heiratsantrag. Oder sollte doch e...  \n",
       "3  <p>Überraschungen auf einer Hochzeit sind ja an der Tagesordnung, aber den Ex mit dem Lieblingshuhn auf dem Arm zu sehen, gehört nicht dazu. Lisas Hochzeit mit Daniel steht unter keinem guten Stern, denn Simon, Lisas Ex steht plötzlich mitten in der Kirche. Im Arm hält er Lisas Samstagshuhn Antje, sie war der Grund der Trennung.<br>Was führt Simon im Schilde?<br>Nachdem Simon ohne eine Wort zu sagen verschwunden ist, taucht in Lisas Leben Daniel auf. Er ist das komplette Gegenteil von Simon ...  \n",
       "4  <p><strong>Klappentext:</strong><br>Als David vor Lisa auf die Knie geht und sie bittet seine Frau zu werden, scheint ihr Glück perfekt. Doch warum muss sie immerzu an Simon, ihren Exfreund, denken? Ausgerechnet Simon, der sie – eifersüchtig auf ihr Lieblingshuhn – ohne ein Abschiedswort verlassen hat. <br> <br>Schluss mit Liebeskummer! Lange genug hat sie dem Mistkerl hinterher geweint. Lisa, die sich gern in peinliche bis katastrophale Situationen plappert, die nicht geradeaus sondern mind...  "
      ]
     },
     "execution_count": 8,
     "metadata": {},
     "output_type": "execute_result"
    }
   ],
   "source": [
    "df_all.head()"
   ]
  },
  {
   "cell_type": "code",
   "execution_count": 9,
   "metadata": {},
   "outputs": [],
   "source": [
    "#changing 'rating' column to integer\n",
    "df_all['rating'] = df_all['rating'].astype(int)"
   ]
  },
  {
   "cell_type": "code",
   "execution_count": 10,
   "metadata": {},
   "outputs": [
    {
     "data": {
      "image/png": "[encoded data removed]",
      "text/plain": [
       "<Figure size 432x288 with 1 Axes>"
      ]
     },
     "metadata": {
      "needs_background": "light"
     },
     "output_type": "display_data"
    }
   ],
   "source": [
    "#checking the distribution of classes\n",
    "#we can see that most of data is rated 5 or 4 and there is really small number of 1's and 2's\n",
    "#that might be a problem for the model, but let's check the concept\n",
    "df_all['rating'].value_counts(normalize=True).plot(kind='bar');"
   ]
  },
  {
   "cell_type": "code",
   "execution_count": 11,
   "metadata": {},
   "outputs": [
    {
     "data": {
      "text/plain": [
       "5    0.503003\n",
       "4    0.315837\n",
       "3    0.131619\n",
       "2    0.038461\n",
       "1    0.011079\n",
       "Name: rating, dtype: float64"
      ]
     },
     "execution_count": 11,
     "metadata": {},
     "output_type": "execute_result"
    }
   ],
   "source": [
    "df_all['rating'].value_counts(normalize=True)"
   ]
  },
  {
   "cell_type": "code",
   "execution_count": 12,
   "metadata": {},
   "outputs": [
    {
     "data": {
      "text/plain": [
       "5    181055\n",
       "4    113685\n",
       "3     47376\n",
       "2     13844\n",
       "1      3988\n",
       "Name: rating, dtype: int64"
      ]
     },
     "execution_count": 12,
     "metadata": {},
     "output_type": "execute_result"
    }
   ],
   "source": [
    "df_all['rating'].value_counts()"
   ]
  },
  {
   "cell_type": "code",
   "execution_count": 13,
   "metadata": {},
   "outputs": [],
   "source": [
    "df_1_rating = df_all[df_all['rating'] == 1]\n",
    "df_2_rating = df_all[df_all['rating'] == 2]\n",
    "df_3_rating = df_all[df_all['rating'] == 3]\n",
    "df_4_rating = df_all[df_all['rating'] == 4]\n",
    "df_5_rating = df_all[df_all['rating'] == 5]"
   ]
  },
  {
   "cell_type": "code",
   "execution_count": 17,
   "metadata": {},
   "outputs": [
    {
     "data": {
      "text/plain": [
       "(17832, 2)"
      ]
     },
     "execution_count": 17,
     "metadata": {},
     "output_type": "execute_result"
    }
   ],
   "source": [
    "df_negativ = pd.DataFrame()\n",
    "df_negativ = df_negativ.append(df_1_rating)\n",
    "df_negativ = df_negativ.append(df_2_rating)\n",
    "df_negativ.shape"
   ]
  },
  {
   "cell_type": "code",
   "execution_count": 18,
   "metadata": {},
   "outputs": [
    {
     "data": {
      "text/plain": [
       "(17832, 2)"
      ]
     },
     "execution_count": 18,
     "metadata": {},
     "output_type": "execute_result"
    }
   ],
   "source": [
    "df_positiv = pd.DataFrame()\n",
    "df_positiv = df_positiv.append(df_4_rating)\n",
    "df_positiv = df_positiv.append(df_5_rating)\n",
    "df_positiv = df_positiv.sample(n=17832)\n",
    "df_positiv.shape"
   ]
  },
  {
   "cell_type": "code",
   "execution_count": 20,
   "metadata": {},
   "outputs": [
    {
     "data": {
      "text/plain": [
       "(35664, 2)"
      ]
     },
     "execution_count": 20,
     "metadata": {},
     "output_type": "execute_result"
    }
   ],
   "source": [
    "df_all = pd.DataFrame()\n",
    "df_all = df_all.append(df_negativ)\n",
    "df_all = df_all.append(df_positiv)\n",
    "df_all.shape"
   ]
  },
  {
   "cell_type": "code",
   "execution_count": 27,
   "metadata": {},
   "outputs": [],
   "source": [
    "df_all['sentiment'] = df_all['rating'].map(lambda x: 0 if x<3 else 1)"
   ]
  },
  {
   "cell_type": "code",
   "execution_count": 28,
   "metadata": {},
   "outputs": [
    {
     "data": {
      "text/html": [
       "<div>\n",
       "<style scoped>\n",
       "    .dataframe tbody tr th:only-of-type {\n",
       "        vertical-align: middle;\n",
       "    }\n",
       "\n",
       "    .dataframe tbody tr th {\n",
       "        vertical-align: top;\n",
       "    }\n",
       "\n",
       "    .dataframe thead th {\n",
       "        text-align: right;\n",
       "    }\n",
       "</style>\n",
       "<table border=\"1\" class=\"dataframe\">\n",
       "  <thead>\n",
       "    <tr style=\"text-align: right;\">\n",
       "      <th></th>\n",
       "      <th>rating</th>\n",
       "      <th>fullTextHtml</th>\n",
       "      <th>sentiment</th>\n",
       "    </tr>\n",
       "  </thead>\n",
       "  <tbody>\n",
       "    <tr>\n",
       "      <th>41166</th>\n",
       "      <td>2</td>\n",
       "      <td>&lt;p&gt;&lt;/p&gt;\\n&lt;p&gt;Handlung:&lt;/p&gt;\\n&lt;p&gt;Die Geschwister Cal und Yvannie finden ein Mädchen ohne Gedächtnis, das sie bei sich aufnehmen und Elea nennen. Dabei wird nach und nach klar, dass Elea kein normales Mädchen und die Magie real ist. Doch die Dunkelheit versucht an die Macht zu kommen und nur Elea kann mit Hilfe von Cal, Yvannie und anderen Reisegefährten, denen sie begegnet, kann sie aufhalten. Wird sich Elea wieder erinnern können und sind wirklich alle Gefährten auf ihrer Seite?&lt;/p&gt;\\n&lt;p&gt;&lt;br&gt;&lt;/...</td>\n",
       "      <td>0</td>\n",
       "    </tr>\n",
       "    <tr>\n",
       "      <th>271650</th>\n",
       "      <td>2</td>\n",
       "      <td>&lt;p&gt;&lt;/p&gt;\\n&lt;div&gt;\\n  Inhalt:\\n&lt;/div&gt;\\n&lt;div&gt;\\n  Annie McKay flieht vor ihrem gewalttätigen Ehemann in einen Trailerpark. In ihrem Wohnwagen findet sie ein Handy, das klingelt und an das sie ran geht. Der Mann am anderen Ende der Leitung erweckt nie dagewesene Gefühle in Annie und lässt sie Dinge tun, die sie nie für möglich gehalten hat.\\n&lt;/div&gt;\\n&lt;div&gt; \\n &lt;br&gt;\\n&lt;/div&gt;\\n&lt;div&gt;\\n  Meine Meinung:\\n&lt;/div&gt;\\n&lt;div&gt;\\n  Das Cover hat mich sofort sehr angesprochen, da die Details des Titels wirklich schön ...</td>\n",
       "      <td>0</td>\n",
       "    </tr>\n",
       "    <tr>\n",
       "      <th>164862</th>\n",
       "      <td>4</td>\n",
       "      <td>&lt;p&gt;Deckblatt:&lt;br&gt;&lt;br&gt;&lt;br&gt;Der Mörder seiner Tochter Kommissar Seeberg aus Fulda geht einen schweren Gang. Ein todkranker Serienmörder ruft ihn zu sich ins Gefängnis. Petrov soll in der Rhön vier Frauen heimtückisch ermordet haben, darunter Seebergs dreizehnjährige Tochter. Doch nun, den Tod vor Augen, erklärt Petrov, jemand anders habe ihn kopiert und Seebergs Tochter umgebracht. Sein Anwalt wisse mehr. Seeberg beginnt in eigener Sache zu ermitteln Doch der Anwalt kann ihm nicht helfen: Er wi...</td>\n",
       "      <td>1</td>\n",
       "    </tr>\n",
       "    <tr>\n",
       "      <th>104626</th>\n",
       "      <td>4</td>\n",
       "      <td>&lt;p&gt;&lt;/p&gt;\\n&lt;p&gt;Kochen ist eine Leidenschaft. Genießen ist eine Kunst. &lt;/p&gt;\\n&lt;p&gt;An dieses Zitat fühle ich mich erinnert, wenn ich den Roman \"Der Duft von Rosmarin und Schokolade\" von Tania Schie in die Hand nehme. Erzählt wird die Geschichte von Maylis, die taglich hinter der Theke des&amp;nbsp;traditionsreichen Hamburger Feinkostladens Radke&amp;nbsp;steht.&amp;nbsp;Sie genießt es, ihre Kunden zu beraten, nicht nur in kulinarischen, sondern auch in romantischen Angelegenheiten. Doch wenn sie nach Hause kom...</td>\n",
       "      <td>1</td>\n",
       "    </tr>\n",
       "    <tr>\n",
       "      <th>33415</th>\n",
       "      <td>2</td>\n",
       "      <td>&lt;p&gt;&lt;/p&gt;\\n&lt;p&gt;Die D-Bags haben es geschafft. Sie sind über Nacht berühmt geworden und dürfen gemeinsam mit Sienna Sexton, einem Superstar, auf Tour. Doch das neue Leben als Promi birgt auch seine Schattenseiten und so sehen sich Kiera und Kellan bald einem regelrechten Spießroutenlauf ausgesetzt. Zumal Kiera gerne weiterhin im Hintergrund bleiben möchte. Und auch Anna und Griffin müssen sich entscheiden, in welche Richtung ihre Beziehung gehen soll. Werden die neuen Superstars ihren Frauen tre...</td>\n",
       "      <td>0</td>\n",
       "    </tr>\n",
       "  </tbody>\n",
       "</table>\n",
       "</div>"
      ],
      "text/plain": [
       "        rating  \\\n",
       "41166        2   \n",
       "271650       2   \n",
       "164862       4   \n",
       "104626       4   \n",
       "33415        2   \n",
       "\n",
       "                                                                                                                                                                                                                                                                                                                                                                                                                                                                                                               fullTextHtml  \\\n",
       "41166   <p></p>\\n<p>Handlung:</p>\\n<p>Die Geschwister Cal und Yvannie finden ein Mädchen ohne Gedächtnis, das sie bei sich aufnehmen und Elea nennen. Dabei wird nach und nach klar, dass Elea kein normales Mädchen und die Magie real ist. Doch die Dunkelheit versucht an die Macht zu kommen und nur Elea kann mit Hilfe von Cal, Yvannie und anderen Reisegefährten, denen sie begegnet, kann sie aufhalten. Wird sich Elea wieder erinnern können und sind wirklich alle Gefährten auf ihrer Seite?</p>\\n<p><br></...   \n",
       "271650  <p></p>\\n<div>\\n  Inhalt:\\n</div>\\n<div>\\n  Annie McKay flieht vor ihrem gewalttätigen Ehemann in einen Trailerpark. In ihrem Wohnwagen findet sie ein Handy, das klingelt und an das sie ran geht. Der Mann am anderen Ende der Leitung erweckt nie dagewesene Gefühle in Annie und lässt sie Dinge tun, die sie nie für möglich gehalten hat.\\n</div>\\n<div> \\n <br>\\n</div>\\n<div>\\n  Meine Meinung:\\n</div>\\n<div>\\n  Das Cover hat mich sofort sehr angesprochen, da die Details des Titels wirklich schön ...   \n",
       "164862  <p>Deckblatt:<br><br><br>Der Mörder seiner Tochter Kommissar Seeberg aus Fulda geht einen schweren Gang. Ein todkranker Serienmörder ruft ihn zu sich ins Gefängnis. Petrov soll in der Rhön vier Frauen heimtückisch ermordet haben, darunter Seebergs dreizehnjährige Tochter. Doch nun, den Tod vor Augen, erklärt Petrov, jemand anders habe ihn kopiert und Seebergs Tochter umgebracht. Sein Anwalt wisse mehr. Seeberg beginnt in eigener Sache zu ermitteln Doch der Anwalt kann ihm nicht helfen: Er wi...   \n",
       "104626  <p></p>\\n<p>Kochen ist eine Leidenschaft. Genießen ist eine Kunst. </p>\\n<p>An dieses Zitat fühle ich mich erinnert, wenn ich den Roman \"Der Duft von Rosmarin und Schokolade\" von Tania Schie in die Hand nehme. Erzählt wird die Geschichte von Maylis, die taglich hinter der Theke des&nbsp;traditionsreichen Hamburger Feinkostladens Radke&nbsp;steht.&nbsp;Sie genießt es, ihre Kunden zu beraten, nicht nur in kulinarischen, sondern auch in romantischen Angelegenheiten. Doch wenn sie nach Hause kom...   \n",
       "33415   <p></p>\\n<p>Die D-Bags haben es geschafft. Sie sind über Nacht berühmt geworden und dürfen gemeinsam mit Sienna Sexton, einem Superstar, auf Tour. Doch das neue Leben als Promi birgt auch seine Schattenseiten und so sehen sich Kiera und Kellan bald einem regelrechten Spießroutenlauf ausgesetzt. Zumal Kiera gerne weiterhin im Hintergrund bleiben möchte. Und auch Anna und Griffin müssen sich entscheiden, in welche Richtung ihre Beziehung gehen soll. Werden die neuen Superstars ihren Frauen tre...   \n",
       "\n",
       "        sentiment  \n",
       "41166           0  \n",
       "271650          0  \n",
       "164862          1  \n",
       "104626          1  \n",
       "33415           0  "
      ]
     },
     "execution_count": 28,
     "metadata": {},
     "output_type": "execute_result"
    }
   ],
   "source": [
    "df_all.sample(5)"
   ]
  },
  {
   "cell_type": "code",
   "execution_count": 30,
   "metadata": {},
   "outputs": [
    {
     "data": {
      "text/plain": [
       "2"
      ]
     },
     "execution_count": 30,
     "metadata": {},
     "output_type": "execute_result"
    }
   ],
   "source": [
    "X = df_all['fullTextHtml'].values\n",
    "y = df_all['sentiment'].values\n",
    "\n",
    "skf = StratifiedKFold(n_splits=2, random_state=8888, shuffle=True)\n",
    "skf.get_n_splits(X, y)"
   ]
  },
  {
   "cell_type": "code",
   "execution_count": 31,
   "metadata": {},
   "outputs": [],
   "source": [
    "for train_index, test_index in skf.split(X, y):\n",
    "     X_train, X_test = X[train_index], X[test_index]\n",
    "     y_train, y_test = y[train_index], y[test_index]"
   ]
  },
  {
   "cell_type": "code",
   "execution_count": 32,
   "metadata": {},
   "outputs": [
    {
     "data": {
      "text/plain": [
       "((17832,), (17832,), (17832,), (17832,))"
      ]
     },
     "execution_count": 32,
     "metadata": {},
     "output_type": "execute_result"
    }
   ],
   "source": [
    "X_train.shape, X_test.shape, y_train.shape, y_test.shape"
   ]
  },
  {
   "cell_type": "code",
   "execution_count": 33,
   "metadata": {},
   "outputs": [
    {
     "data": {
      "text/plain": [
       "(array([0, 1], dtype=int64), array([8916, 8916], dtype=int64))"
      ]
     },
     "execution_count": 33,
     "metadata": {},
     "output_type": "execute_result"
    }
   ],
   "source": [
    "np.unique(y_train, return_counts=True)"
   ]
  },
  {
   "cell_type": "code",
   "execution_count": 34,
   "metadata": {},
   "outputs": [
    {
     "data": {
      "text/plain": [
       "(array([0, 1], dtype=int64), array([8916, 8916], dtype=int64))"
      ]
     },
     "execution_count": 34,
     "metadata": {},
     "output_type": "execute_result"
    }
   ],
   "source": [
    "np.unique(y_test, return_counts=True)"
   ]
  },
  {
   "cell_type": "code",
   "execution_count": 35,
   "metadata": {},
   "outputs": [
    {
     "data": {
      "text/plain": [
       "(17832, 145584)"
      ]
     },
     "execution_count": 35,
     "metadata": {},
     "output_type": "execute_result"
    }
   ],
   "source": [
    "#bag of words\n",
    "#Text preprocessing, tokenizing and filtering of stopwords are all included in CountVectorizer, \n",
    "#which builds a dictionary of features and transforms documents to feature vectors\n",
    "\n",
    "count_vect = CountVectorizer()\n",
    "X_train_counts = count_vect.fit_transform(X_train)\n",
    "X_train_counts.shape"
   ]
  },
  {
   "cell_type": "code",
   "execution_count": 36,
   "metadata": {},
   "outputs": [
    {
     "data": {
      "text/plain": [
       "139304"
      ]
     },
     "execution_count": 36,
     "metadata": {},
     "output_type": "execute_result"
    }
   ],
   "source": [
    "#checking some typical words if they are in vocabulary\n",
    "count_vect.vocabulary_.get('wunderbar')"
   ]
  },
  {
   "cell_type": "code",
   "execution_count": 37,
   "metadata": {},
   "outputs": [
    {
     "data": {
      "text/plain": [
       "(17832, 145584)"
      ]
     },
     "execution_count": 37,
     "metadata": {},
     "output_type": "execute_result"
    }
   ],
   "source": [
    "tfidf_transformer = TfidfTransformer()\n",
    "X_train_tfidf = tfidf_transformer.fit_transform(X_train_counts)\n",
    "X_train_tfidf.shape"
   ]
  },
  {
   "cell_type": "markdown",
   "metadata": {},
   "source": [
    "NAIVE BAYES"
   ]
  },
  {
   "cell_type": "code",
   "execution_count": 45,
   "metadata": {},
   "outputs": [],
   "source": [
    "#training a Naive Bayes classifier\n",
    "clf = MultinomialNB().fit(X_train_tfidf, y_train)"
   ]
  },
  {
   "cell_type": "code",
   "execution_count": 48,
   "metadata": {},
   "outputs": [],
   "source": [
    "#testing on some simple examples\n",
    "docs_new = ['Film war wunderbar', 'Das Film was schrecklich']\n",
    "X_new_counts = count_vect.transform(docs_new)\n",
    "X_new_tfidf = tfidf_transformer.transform(X_new_counts)"
   ]
  },
  {
   "cell_type": "code",
   "execution_count": 49,
   "metadata": {},
   "outputs": [
    {
     "data": {
      "text/plain": [
       "array([1, 0], dtype=int64)"
      ]
     },
     "execution_count": 49,
     "metadata": {},
     "output_type": "execute_result"
    }
   ],
   "source": [
    "predicted = clf.predict(X_new_tfidf)\n",
    "predicted"
   ]
  },
  {
   "cell_type": "code",
   "execution_count": 50,
   "metadata": {},
   "outputs": [],
   "source": [
    "#In order to make the vectorizer => transformer => classifier easier to work with, scikit-learn provides a Pipeline class\n",
    "#that behaves like a compound classifier\n",
    "\n",
    "text_clf = Pipeline([\n",
    "     ('vect', CountVectorizer()),\n",
    "     ('tfidf', TfidfTransformer()),\n",
    "     ('clf', MultinomialNB()),\n",
    " ])"
   ]
  },
  {
   "cell_type": "code",
   "execution_count": 51,
   "metadata": {},
   "outputs": [
    {
     "data": {
      "text/plain": [
       "Pipeline(memory=None,\n",
       "         steps=[('vect',\n",
       "                 CountVectorizer(analyzer='word', binary=False,\n",
       "                                 decode_error='strict',\n",
       "                                 dtype=<class 'numpy.int64'>, encoding='utf-8',\n",
       "                                 input='content', lowercase=True, max_df=1.0,\n",
       "                                 max_features=None, min_df=1,\n",
       "                                 ngram_range=(1, 1), preprocessor=None,\n",
       "                                 stop_words=None, strip_accents=None,\n",
       "                                 token_pattern='(?u)\\\\b\\\\w\\\\w+\\\\b',\n",
       "                                 tokenizer=None, vocabulary=None)),\n",
       "                ('tfidf',\n",
       "                 TfidfTransformer(norm='l2', smooth_idf=True,\n",
       "                                  sublinear_tf=False, use_idf=True)),\n",
       "                ('clf',\n",
       "                 MultinomialNB(alpha=1.0, class_prior=None, fit_prior=True))],\n",
       "         verbose=False)"
      ]
     },
     "execution_count": 51,
     "metadata": {},
     "output_type": "execute_result"
    }
   ],
   "source": [
    "text_clf.fit(X_train, y_train)"
   ]
  },
  {
   "cell_type": "code",
   "execution_count": 52,
   "metadata": {},
   "outputs": [
    {
     "name": "stdout",
     "output_type": "stream",
     "text": [
      "0.8741027366532077\n"
     ]
    }
   ],
   "source": [
    "#evaluation on test set\n",
    "predicted = text_clf.predict(X_test)\n",
    "print(accuracy_score(y_test,predicted))"
   ]
  },
  {
   "cell_type": "markdown",
   "metadata": {},
   "source": [
    "SVM"
   ]
  },
  {
   "cell_type": "code",
   "execution_count": 53,
   "metadata": {},
   "outputs": [
    {
     "name": "stdout",
     "output_type": "stream",
     "text": [
      "0.8618214445939884\n"
     ]
    }
   ],
   "source": [
    "text_clf = Pipeline([\n",
    "    ('vect', CountVectorizer()),\n",
    "    ('tfidf', TfidfTransformer()),\n",
    "    ('clf', SGDClassifier(loss='hinge', penalty='l2',\n",
    "                          alpha=1e-3, random_state=8888,\n",
    "                          max_iter=5, tol=None)),\n",
    "])\n",
    "\n",
    "text_clf.fit(X_train, y_train)\n",
    "\n",
    "predicted = text_clf.predict(X_test)\n",
    "print(accuracy_score(y_test,predicted))"
   ]
  },
  {
   "cell_type": "code",
   "execution_count": 58,
   "metadata": {},
   "outputs": [
    {
     "name": "stdout",
     "output_type": "stream",
     "text": [
      "              precision    recall  f1-score   support\n",
      "\n",
      "           0       0.92      0.80      0.85      8916\n",
      "           1       0.82      0.93      0.87      8916\n",
      "\n",
      "    accuracy                           0.86     17832\n",
      "   macro avg       0.87      0.86      0.86     17832\n",
      "weighted avg       0.87      0.86      0.86     17832\n",
      "\n"
     ]
    }
   ],
   "source": [
    "#more detailed metrics\n",
    "print(metrics.classification_report(y_test, predicted, target_names=['0','1']))"
   ]
  },
  {
   "cell_type": "markdown",
   "metadata": {},
   "source": [
    "XGBOOST"
   ]
  },
  {
   "cell_type": "code",
   "execution_count": 59,
   "metadata": {},
   "outputs": [
    {
     "name": "stdout",
     "output_type": "stream",
     "text": [
      "0.8755607895917452\n"
     ]
    }
   ],
   "source": [
    "text_clf = Pipeline([\n",
    "    ('vect', CountVectorizer()),\n",
    "    ('tfidf', TfidfTransformer()),\n",
    "    ('clf', xgb.XGBClassifier(random_state=8888,max_depth=5, n_estimators=100, objective='multi:softmax', num_class=2)),\n",
    "])\n",
    "\n",
    "text_clf.fit(X_train, y_train)\n",
    "\n",
    "predicted = text_clf.predict(X_test)\n",
    "print(accuracy_score(y_test,predicted))"
   ]
  },
  {
   "cell_type": "code",
   "execution_count": null,
   "metadata": {},
   "outputs": [],
   "source": [
    "#more detailed metrics\n",
    "print(metrics.classification_report(y_test, predicted, target_names=['0','1']))"
   ]
  }
 ],
 "metadata": {
  "kernelspec": {
   "display_name": "Python 3",
   "language": "python",
   "name": "python3"
  },
  "language_info": {
   "codemirror_mode": {
    "name": "ipython",
    "version": 3
   },
   "file_extension": ".py",
   "mimetype": "text/x-python",
   "name": "python",
   "nbconvert_exporter": "python",
   "pygments_lexer": "ipython3",
   "version": "3.7.3"
  }
 },
 "nbformat": 4,
 "nbformat_minor": 2
}
