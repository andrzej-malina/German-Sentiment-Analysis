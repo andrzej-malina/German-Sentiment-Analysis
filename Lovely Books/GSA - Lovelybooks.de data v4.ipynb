{
 "cells": [
  {
   "cell_type": "code",
   "execution_count": 1,
   "metadata": {},
   "outputs": [],
   "source": [
    "import numpy as np\n",
    "import pandas as pd\n",
    "import pickle\n",
    "\n",
    "from sklearn.feature_extraction.text import CountVectorizer\n",
    "from sklearn.feature_extraction.text import TfidfTransformer\n",
    "\n",
    "from sklearn.naive_bayes import MultinomialNB\n",
    "from sklearn.naive_bayes import GaussianNB\n",
    "from sklearn.linear_model import SGDClassifier\n",
    "import xgboost as xgb\n",
    "\n",
    "from sklearn.model_selection import StratifiedKFold\n",
    "from sklearn.model_selection import train_test_split\n",
    "from sklearn import metrics\n",
    "from sklearn.pipeline import Pipeline\n",
    "\n",
    "from  sklearn.metrics  import accuracy_score\n",
    "\n",
    "pd.set_option('display.max_colwidth', 500)\n",
    "pd.set_option('display.max_columns', 500)"
   ]
  },
  {
   "cell_type": "code",
   "execution_count": 2,
   "metadata": {},
   "outputs": [],
   "source": [
    "#loading data\n",
    "df_all = pd.read_pickle('df_all.pkl')"
   ]
  },
  {
   "cell_type": "code",
   "execution_count": 3,
   "metadata": {},
   "outputs": [],
   "source": [
    "#changing 'rating' column to integer\n",
    "df_all['rating'] = df_all['rating'].astype(int)"
   ]
  },
  {
   "cell_type": "code",
   "execution_count": 5,
   "metadata": {},
   "outputs": [
    {
     "data": {
      "image/png": "[encoded data removed]",
      "text/plain": [
       "<Figure size 432x288 with 1 Axes>"
      ]
     },
     "metadata": {
      "needs_background": "light"
     },
     "output_type": "display_data"
    }
   ],
   "source": [
    "#checking the distribution of classes\n",
    "#we can see that most of data is rated 5 or 4 and there is really small number of 1's and 2's\n",
    "#that might be a problem for the model, but let's check the concept\n",
    "df_all['rating'].value_counts(normalize=True).plot(kind='bar');"
   ]
  },
  {
   "cell_type": "code",
   "execution_count": 6,
   "metadata": {},
   "outputs": [
    {
     "data": {
      "text/plain": [
       "5    0.503003\n",
       "4    0.315837\n",
       "3    0.131619\n",
       "2    0.038461\n",
       "1    0.011079\n",
       "Name: rating, dtype: float64"
      ]
     },
     "execution_count": 6,
     "metadata": {},
     "output_type": "execute_result"
    }
   ],
   "source": [
    "df_all['rating'].value_counts(normalize=True)"
   ]
  },
  {
   "cell_type": "code",
   "execution_count": 7,
   "metadata": {},
   "outputs": [
    {
     "data": {
      "text/plain": [
       "5    181055\n",
       "4    113685\n",
       "3     47376\n",
       "2     13844\n",
       "1      3988\n",
       "Name: rating, dtype: int64"
      ]
     },
     "execution_count": 7,
     "metadata": {},
     "output_type": "execute_result"
    }
   ],
   "source": [
    "df_all['rating'].value_counts()"
   ]
  },
  {
   "cell_type": "code",
   "execution_count": 8,
   "metadata": {},
   "outputs": [],
   "source": [
    "df_1_rating = df_all[df_all['rating'] == 1]\n",
    "df_2_rating = df_all[df_all['rating'] == 2]\n",
    "df_3_rating = df_all[df_all['rating'] == 3]\n",
    "df_4_rating = df_all[df_all['rating'] == 4]\n",
    "df_5_rating = df_all[df_all['rating'] == 5]"
   ]
  },
  {
   "cell_type": "code",
   "execution_count": 9,
   "metadata": {},
   "outputs": [
    {
     "data": {
      "text/plain": [
       "(17832, 2)"
      ]
     },
     "execution_count": 9,
     "metadata": {},
     "output_type": "execute_result"
    }
   ],
   "source": [
    "df_negativ = pd.DataFrame()\n",
    "df_negativ = df_negativ.append(df_1_rating)\n",
    "df_negativ = df_negativ.append(df_2_rating)\n",
    "df_negativ.shape"
   ]
  },
  {
   "cell_type": "code",
   "execution_count": 10,
   "metadata": {},
   "outputs": [
    {
     "data": {
      "text/plain": [
       "(17832, 2)"
      ]
     },
     "execution_count": 10,
     "metadata": {},
     "output_type": "execute_result"
    }
   ],
   "source": [
    "df_positiv = pd.DataFrame()\n",
    "df_positiv = df_positiv.append(df_4_rating)\n",
    "df_positiv = df_positiv.append(df_5_rating)\n",
    "df_positiv = df_positiv.sample(n=17832)\n",
    "df_positiv.shape"
   ]
  },
  {
   "cell_type": "code",
   "execution_count": 11,
   "metadata": {},
   "outputs": [
    {
     "data": {
      "text/plain": [
       "(35664, 2)"
      ]
     },
     "execution_count": 11,
     "metadata": {},
     "output_type": "execute_result"
    }
   ],
   "source": [
    "df_all = pd.DataFrame()\n",
    "df_all = df_all.append(df_negativ)\n",
    "df_all = df_all.append(df_positiv)\n",
    "df_all.shape"
   ]
  },
  {
   "cell_type": "code",
   "execution_count": 12,
   "metadata": {},
   "outputs": [
    {
     "data": {
      "text/html": [
       "<div>\n",
       "<style scoped>\n",
       "    .dataframe tbody tr th:only-of-type {\n",
       "        vertical-align: middle;\n",
       "    }\n",
       "\n",
       "    .dataframe tbody tr th {\n",
       "        vertical-align: top;\n",
       "    }\n",
       "\n",
       "    .dataframe thead th {\n",
       "        text-align: right;\n",
       "    }\n",
       "</style>\n",
       "<table border=\"1\" class=\"dataframe\">\n",
       "  <thead>\n",
       "    <tr style=\"text-align: right;\">\n",
       "      <th></th>\n",
       "      <th>rating</th>\n",
       "      <th>fullTextHtml</th>\n",
       "      <th>sentiment</th>\n",
       "    </tr>\n",
       "  </thead>\n",
       "  <tbody>\n",
       "    <tr>\n",
       "      <th>73377</th>\n",
       "      <td>4</td>\n",
       "      <td>&lt;p&gt;&lt;/p&gt;\\n&lt;p&gt;Vergleicht man „Sex and the dorf“ mit dem Vorgängerroman („Löffelchenliebe“) der Autorin, so wirkt das aktuelle Buch erwachsener und reifer. Ich persönlich fand es interessant, die Entwicklung zu sehen. „Sex and the dorf“ ordnet sich zwar in den Bereich Chick-Lit ein, geht aber tiefer. Es gibt einge lustige Stellen, die einen zum Schmunzeln bringen. Durch das Cover und den Titel erwartet man allerdings viel mehr Humor, dafür ist es stellenweise ernst und sehr emotional. &lt;br&gt; Die ...</td>\n",
       "      <td>1</td>\n",
       "    </tr>\n",
       "    <tr>\n",
       "      <th>307810</th>\n",
       "      <td>2</td>\n",
       "      <td>&lt;p&gt;Die Geschichte fand ich gut, mal was Neues! Ein Kranker Täter, aber darauf kommt man sehr schnell.....die Ermittler ebenfalls. Das Buch wurde aber durch endlos lange Verhöre ewig in die Länge gezogen. Ich dachte da kommt noch was und hab es tatsächlich bis Ende durchgekaut....warum macht man das ? Dafür habe ich auf jeden Fall einen Stern abgezogen!&amp;nbsp;&lt;/p&gt;</td>\n",
       "      <td>0</td>\n",
       "    </tr>\n",
       "    <tr>\n",
       "      <th>29477</th>\n",
       "      <td>1</td>\n",
       "      <td>&lt;p&gt;&lt;/p&gt;\\n&lt;p&gt;Achtung: Dies ist der zweite Teil der Reihe um Lizzy und Sam. Dementsprechend können Spoiler enthalten sein, wenn der erste Band nicht bekannt ist!&lt;/p&gt; \\n&lt;p&gt;Lizzy ist schwanger. Eigentlich wäre das ein Grund zur Freude, wenn Sam nicht von den Dämonen seiner Vergangenheit heimgesucht werden würde, weshalb er sich immer mehr von Lizzy distanziert, die gar nicht weiß, wie ihr geschieht.&lt;br&gt; Als ihre Granny Geburtstag hat, kehrt Lizzy alleine in ihre Heimat zurück, in der sie auch au...</td>\n",
       "      <td>0</td>\n",
       "    </tr>\n",
       "    <tr>\n",
       "      <th>143594</th>\n",
       "      <td>5</td>\n",
       "      <td>&lt;p&gt;Das Cover ist sehr ansprechend gestaltet. Es ist schlicht, die Schrift ist jedoch auffälliger und hebt sich hervor. Die Haptik ist sehr angenehm und trotz des gebundenen Hardcovers ist es nicht zu schwer.&amp;nbsp;&lt;/p&gt;\\n&lt;div&gt;\\n  Es zeigt eine ältere Dame und einen jüngeren Mann nebeneinander.&amp;nbsp;\\n&lt;/div&gt;\\n&lt;div&gt; \\n &lt;br&gt;\\n&lt;/div&gt;\\n&lt;div&gt;\\n  Lazy ist verliebt in Elsie und daneben existiert für ihn nichts anderes mehr. &amp;nbsp;\\n&lt;/div&gt;\\n&lt;div&gt;\\n  Er geht voll darin auf, sodaß die Katastrophe, wenn d...</td>\n",
       "      <td>1</td>\n",
       "    </tr>\n",
       "    <tr>\n",
       "      <th>353331</th>\n",
       "      <td>5</td>\n",
       "      <td>&lt;p&gt;Betty nimmt sich von ihrem Leben und ihrem Partner Paul eine Auszeit um zu schreiben.&lt;br&gt;&lt;/p&gt;\\n&lt;div&gt;\\n  Es verschlägt sie nach Kroatien, wo sie in einer Küstenstadt wohnt und abends die Delphine bewundert wenn diese im Meer ihrer Lebenslust Ausdruck verleihen. Sie fühlt sich mit ihnen verbunden, möchte auch so frei sein...\\n&lt;/div&gt;\\n&lt;div&gt;\\n  Überraschend trifft sie Erik, einen alten Schulfreund, welcher ihr nach einer romantischen Nacht einen Delphin aus Stein schenkt.... \\n &lt;br&gt;\\n&lt;/div&gt;\\n...</td>\n",
       "      <td>1</td>\n",
       "    </tr>\n",
       "  </tbody>\n",
       "</table>\n",
       "</div>"
      ],
      "text/plain": [
       "        rating  \\\n",
       "73377        4   \n",
       "307810       2   \n",
       "29477        1   \n",
       "143594       5   \n",
       "353331       5   \n",
       "\n",
       "                                                                                                                                                                                                                                                                                                                                                                                                                                                                                                               fullTextHtml  \\\n",
       "73377   <p></p>\\n<p>Vergleicht man „Sex and the dorf“ mit dem Vorgängerroman („Löffelchenliebe“) der Autorin, so wirkt das aktuelle Buch erwachsener und reifer. Ich persönlich fand es interessant, die Entwicklung zu sehen. „Sex and the dorf“ ordnet sich zwar in den Bereich Chick-Lit ein, geht aber tiefer. Es gibt einge lustige Stellen, die einen zum Schmunzeln bringen. Durch das Cover und den Titel erwartet man allerdings viel mehr Humor, dafür ist es stellenweise ernst und sehr emotional. <br> Die ...   \n",
       "307810                                                                                                                                         <p>Die Geschichte fand ich gut, mal was Neues! Ein Kranker Täter, aber darauf kommt man sehr schnell.....die Ermittler ebenfalls. Das Buch wurde aber durch endlos lange Verhöre ewig in die Länge gezogen. Ich dachte da kommt noch was und hab es tatsächlich bis Ende durchgekaut....warum macht man das ? Dafür habe ich auf jeden Fall einen Stern abgezogen!&nbsp;</p>   \n",
       "29477   <p></p>\\n<p>Achtung: Dies ist der zweite Teil der Reihe um Lizzy und Sam. Dementsprechend können Spoiler enthalten sein, wenn der erste Band nicht bekannt ist!</p> \\n<p>Lizzy ist schwanger. Eigentlich wäre das ein Grund zur Freude, wenn Sam nicht von den Dämonen seiner Vergangenheit heimgesucht werden würde, weshalb er sich immer mehr von Lizzy distanziert, die gar nicht weiß, wie ihr geschieht.<br> Als ihre Granny Geburtstag hat, kehrt Lizzy alleine in ihre Heimat zurück, in der sie auch au...   \n",
       "143594  <p>Das Cover ist sehr ansprechend gestaltet. Es ist schlicht, die Schrift ist jedoch auffälliger und hebt sich hervor. Die Haptik ist sehr angenehm und trotz des gebundenen Hardcovers ist es nicht zu schwer.&nbsp;</p>\\n<div>\\n  Es zeigt eine ältere Dame und einen jüngeren Mann nebeneinander.&nbsp;\\n</div>\\n<div> \\n <br>\\n</div>\\n<div>\\n  Lazy ist verliebt in Elsie und daneben existiert für ihn nichts anderes mehr. &nbsp;\\n</div>\\n<div>\\n  Er geht voll darin auf, sodaß die Katastrophe, wenn d...   \n",
       "353331  <p>Betty nimmt sich von ihrem Leben und ihrem Partner Paul eine Auszeit um zu schreiben.<br></p>\\n<div>\\n  Es verschlägt sie nach Kroatien, wo sie in einer Küstenstadt wohnt und abends die Delphine bewundert wenn diese im Meer ihrer Lebenslust Ausdruck verleihen. Sie fühlt sich mit ihnen verbunden, möchte auch so frei sein...\\n</div>\\n<div>\\n  Überraschend trifft sie Erik, einen alten Schulfreund, welcher ihr nach einer romantischen Nacht einen Delphin aus Stein schenkt.... \\n <br>\\n</div>\\n...   \n",
       "\n",
       "        sentiment  \n",
       "73377           1  \n",
       "307810          0  \n",
       "29477           0  \n",
       "143594          1  \n",
       "353331          1  "
      ]
     },
     "execution_count": 12,
     "metadata": {},
     "output_type": "execute_result"
    }
   ],
   "source": [
    "df_all['sentiment'] = df_all['rating'].map(lambda x: 0 if x<3 else 1)\n",
    "df_all.sample(5)"
   ]
  },
  {
   "cell_type": "code",
   "execution_count": 13,
   "metadata": {},
   "outputs": [],
   "source": [
    "X = df_all['fullTextHtml'].values\n",
    "y = df_all['sentiment'].values"
   ]
  },
  {
   "cell_type": "code",
   "execution_count": 14,
   "metadata": {},
   "outputs": [],
   "source": [
    "X_train, X_test, y_train, y_test = train_test_split(X, y, test_size=0.25, random_state=8888)"
   ]
  },
  {
   "cell_type": "code",
   "execution_count": 15,
   "metadata": {},
   "outputs": [
    {
     "data": {
      "text/plain": [
       "(array([0, 1], dtype=int64), array([13288, 13460], dtype=int64))"
      ]
     },
     "execution_count": 15,
     "metadata": {},
     "output_type": "execute_result"
    }
   ],
   "source": [
    "np.unique(y_train, return_counts=True)"
   ]
  },
  {
   "cell_type": "code",
   "execution_count": 16,
   "metadata": {},
   "outputs": [
    {
     "data": {
      "text/plain": [
       "(array([0, 1], dtype=int64), array([4544, 4372], dtype=int64))"
      ]
     },
     "execution_count": 16,
     "metadata": {},
     "output_type": "execute_result"
    }
   ],
   "source": [
    "np.unique(y_test, return_counts=True)"
   ]
  },
  {
   "cell_type": "code",
   "execution_count": 17,
   "metadata": {},
   "outputs": [
    {
     "data": {
      "text/plain": [
       "(26748, 179766)"
      ]
     },
     "execution_count": 17,
     "metadata": {},
     "output_type": "execute_result"
    }
   ],
   "source": [
    "#bag of words\n",
    "#Text preprocessing, tokenizing and filtering of stopwords are all included in CountVectorizer, \n",
    "#which builds a dictionary of features and transforms documents to feature vectors\n",
    "\n",
    "count_vect = CountVectorizer()\n",
    "X_train_counts = count_vect.fit_transform(X_train)\n",
    "X_train_counts.shape"
   ]
  },
  {
   "cell_type": "code",
   "execution_count": 18,
   "metadata": {},
   "outputs": [
    {
     "data": {
      "text/plain": [
       "172236"
      ]
     },
     "execution_count": 18,
     "metadata": {},
     "output_type": "execute_result"
    }
   ],
   "source": [
    "#checking some typical words if they are in vocabulary\n",
    "count_vect.vocabulary_.get('wunderbar')"
   ]
  },
  {
   "cell_type": "code",
   "execution_count": 19,
   "metadata": {},
   "outputs": [
    {
     "data": {
      "text/plain": [
       "(26748, 179766)"
      ]
     },
     "execution_count": 19,
     "metadata": {},
     "output_type": "execute_result"
    }
   ],
   "source": [
    "tfidf_transformer = TfidfTransformer()\n",
    "X_train_tfidf = tfidf_transformer.fit_transform(X_train_counts)\n",
    "X_train_tfidf.shape"
   ]
  },
  {
   "cell_type": "markdown",
   "metadata": {},
   "source": [
    "NAIVE BAYES"
   ]
  },
  {
   "cell_type": "code",
   "execution_count": 20,
   "metadata": {},
   "outputs": [],
   "source": [
    "#In order to make the vectorizer => transformer => classifier easier to work with, scikit-learn provides a Pipeline class\n",
    "#that behaves like a compound classifier\n",
    "\n",
    "text_clf = Pipeline([\n",
    "     ('vect', CountVectorizer()),\n",
    "     ('tfidf', TfidfTransformer()),\n",
    "     ('clf', MultinomialNB()),\n",
    " ])"
   ]
  },
  {
   "cell_type": "code",
   "execution_count": 21,
   "metadata": {},
   "outputs": [
    {
     "data": {
      "text/plain": [
       "Pipeline(memory=None,\n",
       "         steps=[('vect',\n",
       "                 CountVectorizer(analyzer='word', binary=False,\n",
       "                                 decode_error='strict',\n",
       "                                 dtype=<class 'numpy.int64'>, encoding='utf-8',\n",
       "                                 input='content', lowercase=True, max_df=1.0,\n",
       "                                 max_features=None, min_df=1,\n",
       "                                 ngram_range=(1, 1), preprocessor=None,\n",
       "                                 stop_words=None, strip_accents=None,\n",
       "                                 token_pattern='(?u)\\\\b\\\\w\\\\w+\\\\b',\n",
       "                                 tokenizer=None, vocabulary=None)),\n",
       "                ('tfidf',\n",
       "                 TfidfTransformer(norm='l2', smooth_idf=True,\n",
       "                                  sublinear_tf=False, use_idf=True)),\n",
       "                ('clf',\n",
       "                 MultinomialNB(alpha=1.0, class_prior=None, fit_prior=True))],\n",
       "         verbose=False)"
      ]
     },
     "execution_count": 21,
     "metadata": {},
     "output_type": "execute_result"
    }
   ],
   "source": [
    "text_clf.fit(X_train, y_train)"
   ]
  },
  {
   "cell_type": "code",
   "execution_count": 22,
   "metadata": {},
   "outputs": [
    {
     "name": "stdout",
     "output_type": "stream",
     "text": [
      "0.8903095558546433\n"
     ]
    }
   ],
   "source": [
    "#evaluation on test set\n",
    "predicted = text_clf.predict(X_test)\n",
    "print(accuracy_score(y_test,predicted))"
   ]
  },
  {
   "cell_type": "markdown",
   "metadata": {},
   "source": [
    "SVM"
   ]
  },
  {
   "cell_type": "code",
   "execution_count": 28,
   "metadata": {},
   "outputs": [
    {
     "name": "stdout",
     "output_type": "stream",
     "text": [
      "0.860699865410498\n"
     ]
    }
   ],
   "source": [
    "text_clf = Pipeline([\n",
    "    ('vect', CountVectorizer()),\n",
    "    ('tfidf', TfidfTransformer()),\n",
    "    ('clf', SGDClassifier(loss='hinge', penalty='l2',\n",
    "                          alpha=1e-3, random_state=8888,\n",
    "                          max_iter=10, tol=None)),\n",
    "])\n",
    "\n",
    "text_clf.fit(X_train, y_train)\n",
    "\n",
    "predicted = text_clf.predict(X_test)\n",
    "print(accuracy_score(y_test,predicted))"
   ]
  },
  {
   "cell_type": "code",
   "execution_count": 29,
   "metadata": {},
   "outputs": [
    {
     "name": "stdout",
     "output_type": "stream",
     "text": [
      "              precision    recall  f1-score   support\n",
      "\n",
      "           0       0.92      0.80      0.85      4544\n",
      "           1       0.81      0.93      0.87      4372\n",
      "\n",
      "    accuracy                           0.86      8916\n",
      "   macro avg       0.87      0.86      0.86      8916\n",
      "weighted avg       0.87      0.86      0.86      8916\n",
      "\n"
     ]
    }
   ],
   "source": [
    "#more detailed metrics\n",
    "print(metrics.classification_report(y_test, predicted, target_names=['0','1']))"
   ]
  },
  {
   "cell_type": "markdown",
   "metadata": {},
   "source": [
    "XGBOOST"
   ]
  },
  {
   "cell_type": "code",
   "execution_count": 30,
   "metadata": {},
   "outputs": [
    {
     "name": "stdout",
     "output_type": "stream",
     "text": [
      "0.9121803499327052\n"
     ]
    }
   ],
   "source": [
    "text_clf = Pipeline([\n",
    "    ('vect', CountVectorizer()),\n",
    "    ('tfidf', TfidfTransformer()),\n",
    "    ('clf', xgb.XGBClassifier(random_state=8888, max_depth=7, n_estimators=300, objective='multi:softmax', num_class=2)),\n",
    "])\n",
    "\n",
    "text_clf.fit(X_train, y_train)\n",
    "\n",
    "predicted = text_clf.predict(X_test)\n",
    "print(accuracy_score(y_test,predicted))"
   ]
  },
  {
   "cell_type": "code",
   "execution_count": 31,
   "metadata": {},
   "outputs": [
    {
     "name": "stdout",
     "output_type": "stream",
     "text": [
      "              precision    recall  f1-score   support\n",
      "\n",
      "           0       0.92      0.90      0.91      4544\n",
      "           1       0.90      0.92      0.91      4372\n",
      "\n",
      "    accuracy                           0.91      8916\n",
      "   macro avg       0.91      0.91      0.91      8916\n",
      "weighted avg       0.91      0.91      0.91      8916\n",
      "\n"
     ]
    }
   ],
   "source": [
    "#more detailed metrics\n",
    "print(metrics.classification_report(y_test, predicted, target_names=['0','1']))"
   ]
  },
  {
   "cell_type": "code",
   "execution_count": null,
   "metadata": {},
   "outputs": [],
   "source": []
  }
 ],
 "metadata": {
  "kernelspec": {
   "display_name": "Python 3",
   "language": "python",
   "name": "python3"
  },
  "language_info": {
   "codemirror_mode": {
    "name": "ipython",
    "version": 3
   },
   "file_extension": ".py",
   "mimetype": "text/x-python",
   "name": "python",
   "nbconvert_exporter": "python",
   "pygments_lexer": "ipython3",
   "version": "3.7.3"
  }
 },
 "nbformat": 4,
 "nbformat_minor": 2
}
