{
 "cells": [
  {
   "cell_type": "code",
   "execution_count": 6,
   "metadata": {},
   "outputs": [],
   "source": [
    "import numpy as np\n",
    "import pandas as pd\n",
    "import pickle\n",
    "\n",
    "from sklearn.feature_extraction.text import CountVectorizer\n",
    "from sklearn.feature_extraction.text import TfidfTransformer\n",
    "\n",
    "from sklearn.naive_bayes import MultinomialNB\n",
    "from sklearn.linear_model import SGDClassifier\n",
    "import xgboost as xgb\n",
    "\n",
    "from sklearn.model_selection import StratifiedKFold\n",
    "from sklearn.model_selection import train_test_split\n",
    "from sklearn import metrics\n",
    "from sklearn.pipeline import Pipeline\n",
    "\n",
    "from  sklearn.metrics  import accuracy_score\n",
    "\n",
    "pd.set_option('display.max_colwidth', 500)\n",
    "pd.set_option('display.max_columns', 500)"
   ]
  },
  {
   "cell_type": "code",
   "execution_count": 2,
   "metadata": {},
   "outputs": [],
   "source": [
    "#loading data\n",
    "df_sampled = pd.read_pickle('df_sampled.pkl')"
   ]
  },
  {
   "cell_type": "code",
   "execution_count": 7,
   "metadata": {},
   "outputs": [
    {
     "data": {
      "text/html": [
       "<div>\n",
       "<style scoped>\n",
       "    .dataframe tbody tr th:only-of-type {\n",
       "        vertical-align: middle;\n",
       "    }\n",
       "\n",
       "    .dataframe tbody tr th {\n",
       "        vertical-align: top;\n",
       "    }\n",
       "\n",
       "    .dataframe thead th {\n",
       "        text-align: right;\n",
       "    }\n",
       "</style>\n",
       "<table border=\"1\" class=\"dataframe\">\n",
       "  <thead>\n",
       "    <tr style=\"text-align: right;\">\n",
       "      <th></th>\n",
       "      <th>rating</th>\n",
       "      <th>fullTextHtml</th>\n",
       "    </tr>\n",
       "  </thead>\n",
       "  <tbody>\n",
       "    <tr>\n",
       "      <th>555</th>\n",
       "      <td>1</td>\n",
       "      <td>&lt;p&gt;&lt;/p&gt;\\n&lt;p&gt;&lt;strong&gt;Klappentext (Lovelybooks):&lt;/strong&gt;&lt;/p&gt; \\n&lt;p&gt;&lt;br&gt;&lt;/p&gt; \\n&lt;p&gt;Ally d’Aplièse steht an einem Wendepunkt: Ihre Karriere als Seglerin strebt einem Höhepunkt entgegen, und sie hat den Mann gefunden, mit dem sich all ihre Wünsche erfüllen. Da erhält sie völlig unerwartet die Nachricht vom Tod ihres geliebten Vaters. Ally kehrt zurück zum Familiensitz am Genfer See, um den Schock gemeinsam mit ihren Schwestern zu bewältigen. Sie alle wurden als kleine Mädchen adoptiert und kennen ...</td>\n",
       "    </tr>\n",
       "    <tr>\n",
       "      <th>729</th>\n",
       "      <td>1</td>\n",
       "      <td>&lt;p&gt;&lt;/p&gt;\\n&lt;p&gt;&lt;strong&gt;Nicht nur der Flop des Jahres, sondern vielleicht sogar des Jahrzehnts!&lt;/strong&gt;&lt;/p&gt;\\n&lt;p&gt;Die 1971 in Irland geborene Autorin arbeitete zunächst als Schauspielerin für Theater-, Film- und Fernsehproduktionen bevor sie diese Erfahrungen zum Schreiben inspirierten. Der vorliegende Roman ist nach &lt;a href=\"https://www.lovelybooks.de/autor/Lucinda-Riley/Die-Sturmschwester-1187258204-w/rezension/1534933720/\" rel=\"nofollow\" target=\"_blank\"&gt;&lt;strong&gt;„Die Sturmschwester“&lt;/strong&gt;&lt;/a...</td>\n",
       "    </tr>\n",
       "    <tr>\n",
       "      <th>1636</th>\n",
       "      <td>1</td>\n",
       "      <td>&lt;p&gt;&lt;br&gt;Nach diesen Seiten, die schon ungefähr ein Drittel des Buches ausmachen, war ich äußerst gernevt. Bedauerlicherweise war es mein erstes Buch von Ursula Poznanski, weshalb ich nun sehr überlege, ob ich es mit \"Die Verratenen\" versuchen sollte, denn war dieses Buch aus meiner Sicht schlecht.&lt;br&gt;&lt;br&gt;Es beginnt relativ typisch und verfolgt die allbekannten Schemen vieler Geschichten von heutzutage, so zum Beispiel, dass ausgerechnet die Hauptperson merkt, dass etwas nicht stimmt und alle ...</td>\n",
       "    </tr>\n",
       "    <tr>\n",
       "      <th>1676</th>\n",
       "      <td>1</td>\n",
       "      <td>&lt;p&gt;Inhalt:&lt;br&gt;In den Tiefen der Familienbibliothek ist Furia auf der Suche nach einem ganz besonderen Buch: ihrem Seelenbuch. Mit ihm will sie die Magie und die Macht der Worte entfesseln. Doch dann wird ihr Bruder entführt, und Furia muss um sein Leben kämpfen. Ihr Weg führt sie nach Libropolis, die Stadt der verschwundenen Buchläden ...&lt;br&gt;&lt;br&gt;&lt;br&gt;Cover:&lt;br&gt;Das Cover ist ansprechend gestaltet durch das schwarz verspricht es eine düstere Handlung.&lt;br&gt;&lt;br&gt;Die geschwungenen Buchstaben gefalle...</td>\n",
       "    </tr>\n",
       "    <tr>\n",
       "      <th>1677</th>\n",
       "      <td>1</td>\n",
       "      <td>&lt;p&gt;Ich bin ja auch immer auf der Suche nach Raritäten. Neue Bücher, alte Bücher, antikes... Was auch immer. Und hier wird von sowas erzählt. Gefesselt hat mich die Geschichte leider nicht.&lt;br&gt;&lt;/p&gt;</td>\n",
       "    </tr>\n",
       "  </tbody>\n",
       "</table>\n",
       "</div>"
      ],
      "text/plain": [
       "      rating  \\\n",
       "555        1   \n",
       "729        1   \n",
       "1636       1   \n",
       "1676       1   \n",
       "1677       1   \n",
       "\n",
       "                                                                                                                                                                                                                                                                                                                                                                                                                                                                                                             fullTextHtml  \n",
       "555   <p></p>\\n<p><strong>Klappentext (Lovelybooks):</strong></p> \\n<p><br></p> \\n<p>Ally d’Aplièse steht an einem Wendepunkt: Ihre Karriere als Seglerin strebt einem Höhepunkt entgegen, und sie hat den Mann gefunden, mit dem sich all ihre Wünsche erfüllen. Da erhält sie völlig unerwartet die Nachricht vom Tod ihres geliebten Vaters. Ally kehrt zurück zum Familiensitz am Genfer See, um den Schock gemeinsam mit ihren Schwestern zu bewältigen. Sie alle wurden als kleine Mädchen adoptiert und kennen ...  \n",
       "729   <p></p>\\n<p><strong>Nicht nur der Flop des Jahres, sondern vielleicht sogar des Jahrzehnts!</strong></p>\\n<p>Die 1971 in Irland geborene Autorin arbeitete zunächst als Schauspielerin für Theater-, Film- und Fernsehproduktionen bevor sie diese Erfahrungen zum Schreiben inspirierten. Der vorliegende Roman ist nach <a href=\"https://www.lovelybooks.de/autor/Lucinda-Riley/Die-Sturmschwester-1187258204-w/rezension/1534933720/\" rel=\"nofollow\" target=\"_blank\"><strong>„Die Sturmschwester“</strong></a...  \n",
       "1636  <p><br>Nach diesen Seiten, die schon ungefähr ein Drittel des Buches ausmachen, war ich äußerst gernevt. Bedauerlicherweise war es mein erstes Buch von Ursula Poznanski, weshalb ich nun sehr überlege, ob ich es mit \"Die Verratenen\" versuchen sollte, denn war dieses Buch aus meiner Sicht schlecht.<br><br>Es beginnt relativ typisch und verfolgt die allbekannten Schemen vieler Geschichten von heutzutage, so zum Beispiel, dass ausgerechnet die Hauptperson merkt, dass etwas nicht stimmt und alle ...  \n",
       "1676  <p>Inhalt:<br>In den Tiefen der Familienbibliothek ist Furia auf der Suche nach einem ganz besonderen Buch: ihrem Seelenbuch. Mit ihm will sie die Magie und die Macht der Worte entfesseln. Doch dann wird ihr Bruder entführt, und Furia muss um sein Leben kämpfen. Ihr Weg führt sie nach Libropolis, die Stadt der verschwundenen Buchläden ...<br><br><br>Cover:<br>Das Cover ist ansprechend gestaltet durch das schwarz verspricht es eine düstere Handlung.<br><br>Die geschwungenen Buchstaben gefalle...  \n",
       "1677                                                                                                                                                                                                                                                                                                                 <p>Ich bin ja auch immer auf der Suche nach Raritäten. Neue Bücher, alte Bücher, antikes... Was auch immer. Und hier wird von sowas erzählt. Gefesselt hat mich die Geschichte leider nicht.<br></p>  "
      ]
     },
     "execution_count": 7,
     "metadata": {},
     "output_type": "execute_result"
    }
   ],
   "source": [
    "df_sampled.head()"
   ]
  },
  {
   "cell_type": "code",
   "execution_count": 4,
   "metadata": {},
   "outputs": [
    {
     "data": {
      "image/png": "[encoded data removed]",
      "text/plain": [
       "<Figure size 432x288 with 1 Axes>"
      ]
     },
     "metadata": {
      "needs_background": "light"
     },
     "output_type": "display_data"
    }
   ],
   "source": [
    "df_sampled['rating'].value_counts(normalize=True).plot(kind='bar');"
   ]
  },
  {
   "cell_type": "code",
   "execution_count": 5,
   "metadata": {},
   "outputs": [],
   "source": [
    "#changing 'rating' column to integer\n",
    "df_sampled['rating'] = df_sampled['rating'].astype(int)"
   ]
  },
  {
   "cell_type": "code",
   "execution_count": 9,
   "metadata": {},
   "outputs": [],
   "source": [
    "X = df_sampled['fullTextHtml'].values\n",
    "y = df_sampled['rating'].values"
   ]
  },
  {
   "cell_type": "code",
   "execution_count": 10,
   "metadata": {},
   "outputs": [],
   "source": [
    "X_train, X_test, y_train, y_test = train_test_split(X, y, test_size=0.25, random_state=8888)"
   ]
  },
  {
   "cell_type": "code",
   "execution_count": 16,
   "metadata": {},
   "outputs": [
    {
     "data": {
      "text/plain": [
       "(array([1, 2, 3, 4, 5]), array([2985, 3004, 2969, 2992, 3005], dtype=int64))"
      ]
     },
     "execution_count": 16,
     "metadata": {},
     "output_type": "execute_result"
    }
   ],
   "source": [
    "np.unique(y_train, return_counts=True)"
   ]
  },
  {
   "cell_type": "code",
   "execution_count": 17,
   "metadata": {},
   "outputs": [
    {
     "data": {
      "text/plain": [
       "(array([1, 2, 3, 4, 5]), array([1003,  984, 1019,  996,  983], dtype=int64))"
      ]
     },
     "execution_count": 17,
     "metadata": {},
     "output_type": "execute_result"
    }
   ],
   "source": [
    "np.unique(y_test, return_counts=True)"
   ]
  },
  {
   "cell_type": "code",
   "execution_count": 18,
   "metadata": {},
   "outputs": [
    {
     "data": {
      "text/plain": [
       "(14955, 132234)"
      ]
     },
     "execution_count": 18,
     "metadata": {},
     "output_type": "execute_result"
    }
   ],
   "source": [
    "#bag of words\n",
    "#Text preprocessing, tokenizing and filtering of stopwords are all included in CountVectorizer, \n",
    "#which builds a dictionary of features and transforms documents to feature vectors\n",
    "\n",
    "count_vect = CountVectorizer()\n",
    "X_train_counts = count_vect.fit_transform(X_train)\n",
    "X_train_counts.shape"
   ]
  },
  {
   "cell_type": "code",
   "execution_count": 19,
   "metadata": {},
   "outputs": [
    {
     "data": {
      "text/plain": [
       "126738"
      ]
     },
     "execution_count": 19,
     "metadata": {},
     "output_type": "execute_result"
    }
   ],
   "source": [
    "#checking some typical words if they are in vocabulary\n",
    "count_vect.vocabulary_.get('wunderbar')"
   ]
  },
  {
   "cell_type": "code",
   "execution_count": 20,
   "metadata": {},
   "outputs": [
    {
     "data": {
      "text/plain": [
       "(14955, 132234)"
      ]
     },
     "execution_count": 20,
     "metadata": {},
     "output_type": "execute_result"
    }
   ],
   "source": [
    "tfidf_transformer = TfidfTransformer()\n",
    "X_train_tfidf = tfidf_transformer.fit_transform(X_train_counts)\n",
    "X_train_tfidf.shape"
   ]
  },
  {
   "cell_type": "markdown",
   "metadata": {},
   "source": [
    "NAIVE BAYES"
   ]
  },
  {
   "cell_type": "code",
   "execution_count": 21,
   "metadata": {},
   "outputs": [],
   "source": [
    "#training a Naive Bayes classifier\n",
    "clf = MultinomialNB().fit(X_train_tfidf, y_train)"
   ]
  },
  {
   "cell_type": "code",
   "execution_count": 28,
   "metadata": {},
   "outputs": [],
   "source": [
    "#testing on some simple examples\n",
    "docs_new = ['Film war wunderbar', 'Das Film was schrecklich']\n",
    "X_new_counts = count_vect.transform(docs_new)\n",
    "X_new_tfidf = tfidf_transformer.transform(X_new_counts)"
   ]
  },
  {
   "cell_type": "code",
   "execution_count": 29,
   "metadata": {},
   "outputs": [
    {
     "data": {
      "text/plain": [
       "array([5, 1])"
      ]
     },
     "execution_count": 29,
     "metadata": {},
     "output_type": "execute_result"
    }
   ],
   "source": [
    "predicted = clf.predict(X_new_tfidf)\n",
    "predicted"
   ]
  },
  {
   "cell_type": "code",
   "execution_count": 30,
   "metadata": {},
   "outputs": [],
   "source": [
    "#In order to make the vectorizer => transformer => classifier easier to work with, scikit-learn provides a Pipeline class\n",
    "#that behaves like a compound classifier\n",
    "\n",
    "text_clf = Pipeline([\n",
    "     ('vect', CountVectorizer()),\n",
    "     ('tfidf', TfidfTransformer()),\n",
    "     ('clf', MultinomialNB()),\n",
    " ])"
   ]
  },
  {
   "cell_type": "code",
   "execution_count": 31,
   "metadata": {},
   "outputs": [
    {
     "data": {
      "text/plain": [
       "Pipeline(memory=None,\n",
       "         steps=[('vect',\n",
       "                 CountVectorizer(analyzer='word', binary=False,\n",
       "                                 decode_error='strict',\n",
       "                                 dtype=<class 'numpy.int64'>, encoding='utf-8',\n",
       "                                 input='content', lowercase=True, max_df=1.0,\n",
       "                                 max_features=None, min_df=1,\n",
       "                                 ngram_range=(1, 1), preprocessor=None,\n",
       "                                 stop_words=None, strip_accents=None,\n",
       "                                 token_pattern='(?u)\\\\b\\\\w\\\\w+\\\\b',\n",
       "                                 tokenizer=None, vocabulary=None)),\n",
       "                ('tfidf',\n",
       "                 TfidfTransformer(norm='l2', smooth_idf=True,\n",
       "                                  sublinear_tf=False, use_idf=True)),\n",
       "                ('clf',\n",
       "                 MultinomialNB(alpha=1.0, class_prior=None, fit_prior=True))],\n",
       "         verbose=False)"
      ]
     },
     "execution_count": 31,
     "metadata": {},
     "output_type": "execute_result"
    }
   ],
   "source": [
    "text_clf.fit(X_train, y_train)"
   ]
  },
  {
   "cell_type": "code",
   "execution_count": 35,
   "metadata": {},
   "outputs": [
    {
     "name": "stdout",
     "output_type": "stream",
     "text": [
      "0.4615847542627884\n"
     ]
    }
   ],
   "source": [
    "#evaluation on test set\n",
    "predicted = text_clf.predict(X_test)\n",
    "print(accuracy_score(y_test,predicted))"
   ]
  },
  {
   "cell_type": "markdown",
   "metadata": {},
   "source": [
    "SVM"
   ]
  },
  {
   "cell_type": "code",
   "execution_count": 36,
   "metadata": {},
   "outputs": [
    {
     "name": "stdout",
     "output_type": "stream",
     "text": [
      "0.5305917753259779\n"
     ]
    }
   ],
   "source": [
    "text_clf = Pipeline([\n",
    "    ('vect', CountVectorizer()),\n",
    "    ('tfidf', TfidfTransformer()),\n",
    "    ('clf', SGDClassifier(loss='hinge', penalty='l2',\n",
    "                          alpha=1e-3, random_state=8888,\n",
    "                          max_iter=5, tol=None)),\n",
    "])\n",
    "\n",
    "text_clf.fit(X_train, y_train)\n",
    "\n",
    "predicted = text_clf.predict(X_test)\n",
    "print(accuracy_score(y_test,predicted))"
   ]
  },
  {
   "cell_type": "code",
   "execution_count": 37,
   "metadata": {},
   "outputs": [
    {
     "name": "stdout",
     "output_type": "stream",
     "text": [
      "              precision    recall  f1-score   support\n",
      "\n",
      "           1       0.59      0.80      0.68      1003\n",
      "           2       0.48      0.33      0.39       984\n",
      "           3       0.52      0.36      0.43      1019\n",
      "           4       0.46      0.33      0.38       996\n",
      "           5       0.54      0.84      0.66       983\n",
      "\n",
      "    accuracy                           0.53      4985\n",
      "   macro avg       0.52      0.53      0.51      4985\n",
      "weighted avg       0.52      0.53      0.51      4985\n",
      "\n"
     ]
    }
   ],
   "source": [
    "#more detailed metrics\n",
    "print(metrics.classification_report(y_test, predicted, target_names=['1','2','3','4','5']))"
   ]
  },
  {
   "cell_type": "markdown",
   "metadata": {},
   "source": [
    "XGBOOST"
   ]
  },
  {
   "cell_type": "code",
   "execution_count": 38,
   "metadata": {},
   "outputs": [
    {
     "name": "stdout",
     "output_type": "stream",
     "text": [
      "0.524974924774323\n"
     ]
    }
   ],
   "source": [
    "text_clf = Pipeline([\n",
    "    ('vect', CountVectorizer()),\n",
    "    ('tfidf', TfidfTransformer()),\n",
    "    ('clf', xgb.XGBClassifier(random_state=8888, max_depth=5, n_estimators=200, objective='multi:softmax', num_class=5)),\n",
    "])\n",
    "\n",
    "text_clf.fit(X_train, y_train)\n",
    "\n",
    "predicted = text_clf.predict(X_test)\n",
    "print(accuracy_score(y_test,predicted))"
   ]
  },
  {
   "cell_type": "code",
   "execution_count": 39,
   "metadata": {},
   "outputs": [
    {
     "name": "stdout",
     "output_type": "stream",
     "text": [
      "              precision    recall  f1-score   support\n",
      "\n",
      "           1       0.66      0.65      0.65      1003\n",
      "           2       0.48      0.49      0.48       984\n",
      "           3       0.47      0.39      0.43      1019\n",
      "           4       0.44      0.44      0.44       996\n",
      "           5       0.56      0.66      0.61       983\n",
      "\n",
      "    accuracy                           0.52      4985\n",
      "   macro avg       0.52      0.53      0.52      4985\n",
      "weighted avg       0.52      0.52      0.52      4985\n",
      "\n"
     ]
    }
   ],
   "source": [
    "#more detailed metrics\n",
    "print(metrics.classification_report(y_test, predicted, target_names=['1','2','3','4','5']))"
   ]
  },
  {
   "cell_type": "code",
   "execution_count": null,
   "metadata": {},
   "outputs": [],
   "source": []
  }
 ],
 "metadata": {
  "kernelspec": {
   "display_name": "Python 3",
   "language": "python",
   "name": "python3"
  },
  "language_info": {
   "codemirror_mode": {
    "name": "ipython",
    "version": 3
   },
   "file_extension": ".py",
   "mimetype": "text/x-python",
   "name": "python",
   "nbconvert_exporter": "python",
   "pygments_lexer": "ipython3",
   "version": "3.7.3"
  }
 },
 "nbformat": 4,
 "nbformat_minor": 2
}
